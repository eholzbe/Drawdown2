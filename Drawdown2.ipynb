{
 "cells": [
  {
   "cell_type": "markdown",
   "metadata": {
    "hideCode": true,
    "hidePrompt": true
   },
   "source": [
    "<font size = 6px, style=\"color:blue\">**Drawdown around Pumping Wells**</font>\n",
    "\n",
    "Prof. habil. Dr.-Ing. Dipl.-Math. Ekkehard Holzbecher"
   ]
  },
  {
   "cell_type": "markdown",
   "metadata": {
    "hideCode": true,
    "hidePrompt": true
   },
   "source": [
    "**Brief instruction for non-Pythonists**: The notebook is build of cells that can be read and viewed, but also edited and run. There are different types of cells (see dropdown list at the top ribbon). It is recommended not to edit if you don't know what you are doing! Only those cells indicated as code have to be run (use button at top ribbon). It is convenient to run all cells at start (button: restart the kernel and re-run the whole notebook) and to toggle everything (button). To re-run a single cell use the Run button or press Shift-Return keys together!"
   ]
  },
  {
   "cell_type": "markdown",
   "metadata": {
    "hideCode": true,
    "hidePrompt": true,
    "toc": true
   },
   "source": [
    "<h1>Table of Contents<span class=\"tocSkip\"></span></h1>\n",
    "<div class=\"toc\"><ul class=\"toc-item\"><li><span><a href=\"#Introduction\" data-toc-modified-id=\"Introduction-1\"><span class=\"toc-item-num\">1&nbsp;&nbsp;</span>Introduction</a></span></li><li><span><a href=\"#Steady-State---Thiem-&amp;-de-Glee\" data-toc-modified-id=\"Steady-State---Thiem-&amp;-de-Glee-2\"><span class=\"toc-item-num\">2&nbsp;&nbsp;</span>Steady State - Thiem &amp; de Glee</a></span></li><li><span><a href=\"#Pump-Tests-in-Confined-Aquifers---Theis\" data-toc-modified-id=\"Pump-Tests-in-Confined-Aquifers---Theis-3\"><span class=\"toc-item-num\">3&nbsp;&nbsp;</span>Pump Tests in Confined Aquifers - Theis</a></span></li><li><span><a href=\"#Pump-Tests-in-Leaky-Aquifers----Hantush\" data-toc-modified-id=\"Pump-Tests-in-Leaky-Aquifers----Hantush-4\"><span class=\"toc-item-num\">4&nbsp;&nbsp;</span>Pump Tests in Leaky Aquifers  - Hantush</a></span></li><li><span><a href=\"#Partial-Penetration\" data-toc-modified-id=\"Partial-Penetration-5\"><span class=\"toc-item-num\">5&nbsp;&nbsp;</span>Partial Penetration</a></span></li><li><span><a href=\"#Bibliography\" data-toc-modified-id=\"Bibliography-6\"><span class=\"toc-item-num\">6&nbsp;&nbsp;</span>Bibliography</a></span></li></ul></div>"
   ]
  },
  {
   "cell_type": "markdown",
   "metadata": {
    "hideCode": true,
    "hidePrompt": true
   },
   "source": [
    "## Introduction"
   ]
  },
  {
   "cell_type": "markdown",
   "metadata": {
    "hideCode": true,
    "hidePrompt": true
   },
   "source": [
    "Pumping tests are field tests, aimed to determine the hydraulic parameters of the aquifer. In contrast to lab experiments they thus operate on a larger spatial scale. Inhomogeneities of smaller scale can thus be considered. Another advantage is that the natural conditions, consolidation, layering, etc. may be disturbed only in the close vicinity of the borehole.     \n",
    "\n",
    "In a pumping test water is pumped from a well. As effect of the pumping in a zone around the well location the groundwater table is lowered. The resulting drawdown of the watertable is observed in at least one nearby piezometer. In the figure below that is indicated as observation point.    "
   ]
  },
  {
   "cell_type": "code",
   "execution_count": 1,
   "metadata": {
    "hideCode": true,
    "hidePrompt": true,
    "hide_input": false
   },
   "outputs": [
    {
     "data": {
      "image/svg+xml": [
       "<svg height=\"148mm\" version=\"1.1\" viewBox=\"0 0 210 148\" width=\"210mm\" xmlns=\"http://www.w3.org/2000/svg\" xmlns:cc=\"http://creativecommons.org/ns#\" xmlns:dc=\"http://purl.org/dc/elements/1.1/\" xmlns:rdf=\"http://www.w3.org/1999/02/22-rdf-syntax-ns#\">\n",
       " <defs>\n",
       "  <marker id=\"marker1577\" orient=\"auto\" overflow=\"visible\">\n",
       "   <path d=\"m0 0 5-5-17.5 5 17.5 5z\" fill=\"#8d8282\" fill-rule=\"evenodd\" stroke=\"#8d8282\" stroke-width=\"1pt\" transform=\"matrix(.8 0 0 .8 10 0)\"/>\n",
       "  </marker>\n",
       "  <marker id=\"Arrow1Lstart\" orient=\"auto\" overflow=\"visible\">\n",
       "   <path d=\"m0 0 5-5-17.5 5 17.5 5z\" fill=\"#877\" fill-rule=\"evenodd\" stroke=\"#877\" stroke-width=\"1pt\" transform=\"matrix(.8 0 0 .8 10 0)\"/>\n",
       "  </marker>\n",
       " </defs>\n",
       " <metadata>\n",
       "  <rdf:RDF>\n",
       "   <cc:Work rdf:about=\"\">\n",
       "    <dc:format>image/svg+xml</dc:format>\n",
       "    <dc:type rdf:resource=\"http://purl.org/dc/dcmitype/StillImage\"/>\n",
       "    <dc:title/>\n",
       "   </cc:Work>\n",
       "  </rdf:RDF>\n",
       " </metadata>\n",
       " <path d=\"m37.369 69.824 139.52-0.35224\" fill=\"#0b0af2\" stroke=\"#0000f8\" stroke-dasharray=\"6.78, 6.78\" stroke-width=\".565\"/>\n",
       " <g fill=\"#55a0f2\">\n",
       "  <path d=\"m37.369 96.494v-26.669l3.9398 1e-3c12.318 0.0042 23.272 2.4159 31.516 6.9378 12.212 6.6988 19.786 17.726 27.396 39.89 0.95175 2.7719 1.8569 5.3706 2.0115 5.7749 0.26622 0.69631-1.4324 0.73498-32.291 0.73498h-32.572z\"/>\n",
       "  <rect height=\"16.12\" ry=\"0\" stroke-width=\".26458\" width=\"65.268\" x=\"37.369\" y=\"121.14\"/>\n",
       "  <path d=\"m176.89 96.343v-26.871l-3.9398 1e-3c-12.318 0.0042-23.272 2.4342-31.516 6.9903-12.212 6.7496-19.786 17.86-27.396 40.192-0.95175 2.7929-1.8569 5.4113-2.0115 5.8186-0.26622 0.70159 1.4324 0.74055 32.291 0.74055h32.572z\"/>\n",
       "  <rect height=\"16.12\" stroke-width=\".26458\" transform=\"scale(-1,1)\" width=\"65.268\" x=\"-176.89\" y=\"120.79\"/>\n",
       " </g>\n",
       " <g stroke=\"#0000f8\">\n",
       "  <rect fill=\"#0b0af2\" height=\"15.768\" stroke-dasharray=\"0.1325, 0.1325\" stroke-width=\".265\" width=\"8.9879\" x=\"102.64\" y=\"121.14\"/>\n",
       "  <rect fill=\"#ececfd\" height=\"62.676\" stroke-width=\".265\" width=\"8.8898\" x=\"102.64\" y=\"58.466\"/>\n",
       "  <rect fill=\"#ececfd\" height=\"16.388\" stroke-width=\".083969\" width=\"3.4137\" x=\"143.76\" y=\"60.981\"/>\n",
       " </g>\n",
       " <g fill=\"#0b0af2\">\n",
       "  <g stroke=\"#0000f8\">\n",
       "   <rect height=\"38.573\" stroke-dasharray=\"0.0256019, 0.0256019\" stroke-width=\".25602\" width=\"3.4293\" x=\"143.75\" y=\"74.722\"/>\n",
       "   <rect height=\"11.018\" stroke-dasharray=\"0.0829902, 0.0829902\" stroke-width=\".16598\" width=\"5.0461\" x=\"104.56\" y=\"39.219\"/>\n",
       "   <rect height=\"4.9727\" stroke-dasharray=\"0.0748851, 0.0748851\" stroke-width=\".14977\" width=\"9.1031\" x=\"104.56\" y=\"34.246\"/>\n",
       "  </g>\n",
       "  <path d=\"m113.59 30.174v12.759l7.6028-5.6708z\" stroke=\"#000\" stroke-width=\".34422px\"/>\n",
       " </g>\n",
       " <g fill=\"#000000\" font-family=\"sans-serif\" stroke-width=\".26458\">\n",
       "  <text font-size=\"7.0556px\" style=\"line-height:1.05\" x=\"93.699516\" xml:space=\"preserve\" y=\"22.878208\"><tspan x=\"93.699516\" y=\"22.878208\">pumping</tspan><tspan x=\"93.699516\" y=\"30.286547\"> well</tspan></text>\n",
       "  <text font-size=\"7.0556px\" style=\"line-height:1.05\" text-align=\"center\" text-anchor=\"middle\" x=\"145.74805\" xml:space=\"preserve\" y=\"51.873352\"><tspan text-align=\"center\" x=\"145.74805\" y=\"51.873352\">observation</tspan><tspan text-align=\"center\" x=\"145.74805\" y=\"59.281689\"> point</tspan></text>\n",
       "  <g text-anchor=\"middle\">\n",
       "   <text font-size=\"6.35px\" font-weight=\"bold\" stroke=\"#0000a5\" style=\"line-height:1.05\" text-align=\"center\" x=\"52.47646\" xml:space=\"preserve\" y=\"104.82713\"><tspan text-align=\"center\" x=\"52.47646\" y=\"104.82713\">ground</tspan><tspan text-align=\"center\" x=\"52.47646\" y=\"111.49463\">water</tspan><tspan text-align=\"center\" x=\"52.47646\" y=\"118.16212\">table</tspan></text>\n",
       "   <text font-size=\"5.6444px\" stroke=\"#797987\" style=\"line-height:1.05\" text-align=\"center\" x=\"56.459064\" xml:space=\"preserve\" y=\"83.992638\"><tspan font-family=\"sans-serif\" font-size=\"5.6444px\" stroke=\"#797987\" stroke-width=\".26458\" text-align=\"center\" text-anchor=\"middle\" x=\"56.459064\" y=\"83.992638\">original</tspan></text>\n",
       "   <text font-size=\"5.6444px\" stroke=\"#7a7a8a\" style=\"line-height:1.05\" text-align=\"center\" x=\"82.547028\" xml:space=\"preserve\" y=\"116.28162\"><tspan text-align=\"center\" x=\"82.547028\" y=\"116.28162\">during</tspan><tspan text-align=\"center\" x=\"82.547028\" y=\"122.20827\">pumping</tspan></text>\n",
       "  </g>\n",
       " </g>\n",
       " <path d=\"m76.604 72.709-15.873 27.167\" fill=\"none\" marker-start=\"url(#marker1577)\" stroke=\"#8d8282\" stroke-miterlimit=\"4.2\" stroke-width=\".84076\"/>\n",
       " <path d=\"m93.768 104.81-27.591 2.9226\" fill=\"none\" marker-start=\"url(#Arrow1Lstart)\" stroke=\"#877\" stroke-miterlimit=\"4.2\" stroke-width=\".84076\"/>\n",
       "</svg>"
      ],
      "text/plain": [
       "<IPython.core.display.SVG object>"
      ]
     },
     "execution_count": 1,
     "metadata": {},
     "output_type": "execute_result"
    }
   ],
   "source": [
    "from IPython.core.display import SVG\n",
    "SVG(filename = 'sketch.svg')"
   ]
  },
  {
   "cell_type": "markdown",
   "metadata": {
    "hideCode": true,
    "hidePrompt": true
   },
   "source": [
    "The described situation holds for an unconfined aquifer. In a confined aquifer the situation is almost the same. It is not the watertable that decreases, but the piezometric head, that is also observed in the piezometer. In the following we denote the piezometric head by $h$, which in the unconfined case is the elevation of the watertable above the aquifer base. The change of $h$ from the initial level, before the pump was started, is the drawdown, usually denoted by $s$ (Kruseman & de Ridder 1994).  "
   ]
  },
  {
   "cell_type": "markdown",
   "metadata": {
    "hideCode": true,
    "hidePrompt": true
   },
   "source": [
    "The recorded drawdown data from the test is evaluated providing values for the hydraulic properties of the aquifer. In the confined case the transmissivity $T$ is determined; in the unconfined case it is the hydraulic conductivity $K$. Usually the transient drawdown is recorded, which allows the determination of the storativity $S$ in the confined case, and the storage coefficient $S_0$ in the unconfined case. For leaky aquifers the resistance $c$ of the leaky layer is obtained in addition.   "
   ]
  },
  {
   "cell_type": "markdown",
   "metadata": {
    "hideCode": true,
    "hidePrompt": true
   },
   "source": [
    "There are special evaluation methods thet are appropriate for confined, unconfined or leaky aquifers.  \n",
    "In order to apply the evaluation methods, mostly the following conditions have to be fulfilled:\n",
    "* the well is ideal or fully penetrating, i.e. the well screen extends across the entire depth of the aquifer\n",
    "* the well is vertical\n",
    "* the well diameter is not too large\n",
    "* the pumping rate is constant\n",
    "* the pumping rate is not too high, in order to avoid nonlinear, non-laminar flow (deviations from Darcy\"s Law)\n",
    "* the aquifer has a constant thickness\n",
    "* the aquifer is homogeneous\n",
    "* the aquifer is isotropic\n",
    "* the aquifer can be considered as infinite, i.e. boundaries with certain conditions are in far away\n",
    "* well and aquifer are well connected\n",
    "* the vicinity of the well is not disturbed, as effect of the drilling, for example\n",
    "* the flow towards the well is mainly horizontal\n",
    "* there is no significant hydraulic connection with other aquifers\n",
    "* there are no other pumping or recharging well in the vicinity\n",
    "    \n",
    "There are special evaluation methods that can be applied, if some of these conditions are not fulfilled.\n",
    "For example, the pumping rate may be changed in steps, usually starting with a small pumping rate that is increased in steps. Also the recovery of the well, i.e. the drawdown decrease after the end of the pump operation can be utilized by modified evaluation methods.  "
   ]
  },
  {
   "cell_type": "markdown",
   "metadata": {
    "hideCode": true,
    "hidePrompt": true
   },
   "source": [
    "## Steady State - Thiem & de Glee"
   ]
  },
  {
   "cell_type": "markdown",
   "metadata": {
    "hideCode": true,
    "hidePrompt": true
   },
   "source": [
    "The figure below depicts the watertable drawdown as a 2D surface, i.e. as a cone of depression. $h$ denotes the so called piezometric head, here in relation to a reference value of zero at the undisturbed watertable. $x$ and $y$ are the scales on horizontal coordinate axes.      "
   ]
  },
  {
   "cell_type": "code",
   "execution_count": 2,
   "metadata": {
    "hideCode": true,
    "hidePrompt": true,
    "hide_input": true,
    "scrolled": true
   },
   "outputs": [
    {
     "data": {
      "application/javascript": [
       "/* Put everything inside the global mpl namespace */\n",
       "window.mpl = {};\n",
       "\n",
       "\n",
       "mpl.get_websocket_type = function() {\n",
       "    if (typeof(WebSocket) !== 'undefined') {\n",
       "        return WebSocket;\n",
       "    } else if (typeof(MozWebSocket) !== 'undefined') {\n",
       "        return MozWebSocket;\n",
       "    } else {\n",
       "        alert('Your browser does not have WebSocket support. ' +\n",
       "              'Please try Chrome, Safari or Firefox ≥ 6. ' +\n",
       "              'Firefox 4 and 5 are also supported but you ' +\n",
       "              'have to enable WebSockets in about:config.');\n",
       "    };\n",
       "}\n",
       "\n",
       "mpl.figure = function(figure_id, websocket, ondownload, parent_element) {\n",
       "    this.id = figure_id;\n",
       "\n",
       "    this.ws = websocket;\n",
       "\n",
       "    this.supports_binary = (this.ws.binaryType != undefined);\n",
       "\n",
       "    if (!this.supports_binary) {\n",
       "        var warnings = document.getElementById(\"mpl-warnings\");\n",
       "        if (warnings) {\n",
       "            warnings.style.display = 'block';\n",
       "            warnings.textContent = (\n",
       "                \"This browser does not support binary websocket messages. \" +\n",
       "                    \"Performance may be slow.\");\n",
       "        }\n",
       "    }\n",
       "\n",
       "    this.imageObj = new Image();\n",
       "\n",
       "    this.context = undefined;\n",
       "    this.message = undefined;\n",
       "    this.canvas = undefined;\n",
       "    this.rubberband_canvas = undefined;\n",
       "    this.rubberband_context = undefined;\n",
       "    this.format_dropdown = undefined;\n",
       "\n",
       "    this.image_mode = 'full';\n",
       "\n",
       "    this.root = $('<div/>');\n",
       "    this._root_extra_style(this.root)\n",
       "    this.root.attr('style', 'display: inline-block');\n",
       "\n",
       "    $(parent_element).append(this.root);\n",
       "\n",
       "    this._init_header(this);\n",
       "    this._init_canvas(this);\n",
       "    this._init_toolbar(this);\n",
       "\n",
       "    var fig = this;\n",
       "\n",
       "    this.waiting = false;\n",
       "\n",
       "    this.ws.onopen =  function () {\n",
       "            fig.send_message(\"supports_binary\", {value: fig.supports_binary});\n",
       "            fig.send_message(\"send_image_mode\", {});\n",
       "            if (mpl.ratio != 1) {\n",
       "                fig.send_message(\"set_dpi_ratio\", {'dpi_ratio': mpl.ratio});\n",
       "            }\n",
       "            fig.send_message(\"refresh\", {});\n",
       "        }\n",
       "\n",
       "    this.imageObj.onload = function() {\n",
       "            if (fig.image_mode == 'full') {\n",
       "                // Full images could contain transparency (where diff images\n",
       "                // almost always do), so we need to clear the canvas so that\n",
       "                // there is no ghosting.\n",
       "                fig.context.clearRect(0, 0, fig.canvas.width, fig.canvas.height);\n",
       "            }\n",
       "            fig.context.drawImage(fig.imageObj, 0, 0);\n",
       "        };\n",
       "\n",
       "    this.imageObj.onunload = function() {\n",
       "        fig.ws.close();\n",
       "    }\n",
       "\n",
       "    this.ws.onmessage = this._make_on_message_function(this);\n",
       "\n",
       "    this.ondownload = ondownload;\n",
       "}\n",
       "\n",
       "mpl.figure.prototype._init_header = function() {\n",
       "    var titlebar = $(\n",
       "        '<div class=\"ui-dialog-titlebar ui-widget-header ui-corner-all ' +\n",
       "        'ui-helper-clearfix\"/>');\n",
       "    var titletext = $(\n",
       "        '<div class=\"ui-dialog-title\" style=\"width: 100%; ' +\n",
       "        'text-align: center; padding: 3px;\"/>');\n",
       "    titlebar.append(titletext)\n",
       "    this.root.append(titlebar);\n",
       "    this.header = titletext[0];\n",
       "}\n",
       "\n",
       "\n",
       "\n",
       "mpl.figure.prototype._canvas_extra_style = function(canvas_div) {\n",
       "\n",
       "}\n",
       "\n",
       "\n",
       "mpl.figure.prototype._root_extra_style = function(canvas_div) {\n",
       "\n",
       "}\n",
       "\n",
       "mpl.figure.prototype._init_canvas = function() {\n",
       "    var fig = this;\n",
       "\n",
       "    var canvas_div = $('<div/>');\n",
       "\n",
       "    canvas_div.attr('style', 'position: relative; clear: both; outline: 0');\n",
       "\n",
       "    function canvas_keyboard_event(event) {\n",
       "        return fig.key_event(event, event['data']);\n",
       "    }\n",
       "\n",
       "    canvas_div.keydown('key_press', canvas_keyboard_event);\n",
       "    canvas_div.keyup('key_release', canvas_keyboard_event);\n",
       "    this.canvas_div = canvas_div\n",
       "    this._canvas_extra_style(canvas_div)\n",
       "    this.root.append(canvas_div);\n",
       "\n",
       "    var canvas = $('<canvas/>');\n",
       "    canvas.addClass('mpl-canvas');\n",
       "    canvas.attr('style', \"left: 0; top: 0; z-index: 0; outline: 0\")\n",
       "\n",
       "    this.canvas = canvas[0];\n",
       "    this.context = canvas[0].getContext(\"2d\");\n",
       "\n",
       "    var backingStore = this.context.backingStorePixelRatio ||\n",
       "\tthis.context.webkitBackingStorePixelRatio ||\n",
       "\tthis.context.mozBackingStorePixelRatio ||\n",
       "\tthis.context.msBackingStorePixelRatio ||\n",
       "\tthis.context.oBackingStorePixelRatio ||\n",
       "\tthis.context.backingStorePixelRatio || 1;\n",
       "\n",
       "    mpl.ratio = (window.devicePixelRatio || 1) / backingStore;\n",
       "\n",
       "    var rubberband = $('<canvas/>');\n",
       "    rubberband.attr('style', \"position: absolute; left: 0; top: 0; z-index: 1;\")\n",
       "\n",
       "    var pass_mouse_events = true;\n",
       "\n",
       "    canvas_div.resizable({\n",
       "        start: function(event, ui) {\n",
       "            pass_mouse_events = false;\n",
       "        },\n",
       "        resize: function(event, ui) {\n",
       "            fig.request_resize(ui.size.width, ui.size.height);\n",
       "        },\n",
       "        stop: function(event, ui) {\n",
       "            pass_mouse_events = true;\n",
       "            fig.request_resize(ui.size.width, ui.size.height);\n",
       "        },\n",
       "    });\n",
       "\n",
       "    function mouse_event_fn(event) {\n",
       "        if (pass_mouse_events)\n",
       "            return fig.mouse_event(event, event['data']);\n",
       "    }\n",
       "\n",
       "    rubberband.mousedown('button_press', mouse_event_fn);\n",
       "    rubberband.mouseup('button_release', mouse_event_fn);\n",
       "    // Throttle sequential mouse events to 1 every 20ms.\n",
       "    rubberband.mousemove('motion_notify', mouse_event_fn);\n",
       "\n",
       "    rubberband.mouseenter('figure_enter', mouse_event_fn);\n",
       "    rubberband.mouseleave('figure_leave', mouse_event_fn);\n",
       "\n",
       "    canvas_div.on(\"wheel\", function (event) {\n",
       "        event = event.originalEvent;\n",
       "        event['data'] = 'scroll'\n",
       "        if (event.deltaY < 0) {\n",
       "            event.step = 1;\n",
       "        } else {\n",
       "            event.step = -1;\n",
       "        }\n",
       "        mouse_event_fn(event);\n",
       "    });\n",
       "\n",
       "    canvas_div.append(canvas);\n",
       "    canvas_div.append(rubberband);\n",
       "\n",
       "    this.rubberband = rubberband;\n",
       "    this.rubberband_canvas = rubberband[0];\n",
       "    this.rubberband_context = rubberband[0].getContext(\"2d\");\n",
       "    this.rubberband_context.strokeStyle = \"#000000\";\n",
       "\n",
       "    this._resize_canvas = function(width, height) {\n",
       "        // Keep the size of the canvas, canvas container, and rubber band\n",
       "        // canvas in synch.\n",
       "        canvas_div.css('width', width)\n",
       "        canvas_div.css('height', height)\n",
       "\n",
       "        canvas.attr('width', width * mpl.ratio);\n",
       "        canvas.attr('height', height * mpl.ratio);\n",
       "        canvas.attr('style', 'width: ' + width + 'px; height: ' + height + 'px;');\n",
       "\n",
       "        rubberband.attr('width', width);\n",
       "        rubberband.attr('height', height);\n",
       "    }\n",
       "\n",
       "    // Set the figure to an initial 600x600px, this will subsequently be updated\n",
       "    // upon first draw.\n",
       "    this._resize_canvas(600, 600);\n",
       "\n",
       "    // Disable right mouse context menu.\n",
       "    $(this.rubberband_canvas).bind(\"contextmenu\",function(e){\n",
       "        return false;\n",
       "    });\n",
       "\n",
       "    function set_focus () {\n",
       "        canvas.focus();\n",
       "        canvas_div.focus();\n",
       "    }\n",
       "\n",
       "    window.setTimeout(set_focus, 100);\n",
       "}\n",
       "\n",
       "mpl.figure.prototype._init_toolbar = function() {\n",
       "    var fig = this;\n",
       "\n",
       "    var nav_element = $('<div/>');\n",
       "    nav_element.attr('style', 'width: 100%');\n",
       "    this.root.append(nav_element);\n",
       "\n",
       "    // Define a callback function for later on.\n",
       "    function toolbar_event(event) {\n",
       "        return fig.toolbar_button_onclick(event['data']);\n",
       "    }\n",
       "    function toolbar_mouse_event(event) {\n",
       "        return fig.toolbar_button_onmouseover(event['data']);\n",
       "    }\n",
       "\n",
       "    for(var toolbar_ind in mpl.toolbar_items) {\n",
       "        var name = mpl.toolbar_items[toolbar_ind][0];\n",
       "        var tooltip = mpl.toolbar_items[toolbar_ind][1];\n",
       "        var image = mpl.toolbar_items[toolbar_ind][2];\n",
       "        var method_name = mpl.toolbar_items[toolbar_ind][3];\n",
       "\n",
       "        if (!name) {\n",
       "            // put a spacer in here.\n",
       "            continue;\n",
       "        }\n",
       "        var button = $('<button/>');\n",
       "        button.addClass('ui-button ui-widget ui-state-default ui-corner-all ' +\n",
       "                        'ui-button-icon-only');\n",
       "        button.attr('role', 'button');\n",
       "        button.attr('aria-disabled', 'false');\n",
       "        button.click(method_name, toolbar_event);\n",
       "        button.mouseover(tooltip, toolbar_mouse_event);\n",
       "\n",
       "        var icon_img = $('<span/>');\n",
       "        icon_img.addClass('ui-button-icon-primary ui-icon');\n",
       "        icon_img.addClass(image);\n",
       "        icon_img.addClass('ui-corner-all');\n",
       "\n",
       "        var tooltip_span = $('<span/>');\n",
       "        tooltip_span.addClass('ui-button-text');\n",
       "        tooltip_span.html(tooltip);\n",
       "\n",
       "        button.append(icon_img);\n",
       "        button.append(tooltip_span);\n",
       "\n",
       "        nav_element.append(button);\n",
       "    }\n",
       "\n",
       "    var fmt_picker_span = $('<span/>');\n",
       "\n",
       "    var fmt_picker = $('<select/>');\n",
       "    fmt_picker.addClass('mpl-toolbar-option ui-widget ui-widget-content');\n",
       "    fmt_picker_span.append(fmt_picker);\n",
       "    nav_element.append(fmt_picker_span);\n",
       "    this.format_dropdown = fmt_picker[0];\n",
       "\n",
       "    for (var ind in mpl.extensions) {\n",
       "        var fmt = mpl.extensions[ind];\n",
       "        var option = $(\n",
       "            '<option/>', {selected: fmt === mpl.default_extension}).html(fmt);\n",
       "        fmt_picker.append(option);\n",
       "    }\n",
       "\n",
       "    // Add hover states to the ui-buttons\n",
       "    $( \".ui-button\" ).hover(\n",
       "        function() { $(this).addClass(\"ui-state-hover\");},\n",
       "        function() { $(this).removeClass(\"ui-state-hover\");}\n",
       "    );\n",
       "\n",
       "    var status_bar = $('<span class=\"mpl-message\"/>');\n",
       "    nav_element.append(status_bar);\n",
       "    this.message = status_bar[0];\n",
       "}\n",
       "\n",
       "mpl.figure.prototype.request_resize = function(x_pixels, y_pixels) {\n",
       "    // Request matplotlib to resize the figure. Matplotlib will then trigger a resize in the client,\n",
       "    // which will in turn request a refresh of the image.\n",
       "    this.send_message('resize', {'width': x_pixels, 'height': y_pixels});\n",
       "}\n",
       "\n",
       "mpl.figure.prototype.send_message = function(type, properties) {\n",
       "    properties['type'] = type;\n",
       "    properties['figure_id'] = this.id;\n",
       "    this.ws.send(JSON.stringify(properties));\n",
       "}\n",
       "\n",
       "mpl.figure.prototype.send_draw_message = function() {\n",
       "    if (!this.waiting) {\n",
       "        this.waiting = true;\n",
       "        this.ws.send(JSON.stringify({type: \"draw\", figure_id: this.id}));\n",
       "    }\n",
       "}\n",
       "\n",
       "\n",
       "mpl.figure.prototype.handle_save = function(fig, msg) {\n",
       "    var format_dropdown = fig.format_dropdown;\n",
       "    var format = format_dropdown.options[format_dropdown.selectedIndex].value;\n",
       "    fig.ondownload(fig, format);\n",
       "}\n",
       "\n",
       "\n",
       "mpl.figure.prototype.handle_resize = function(fig, msg) {\n",
       "    var size = msg['size'];\n",
       "    if (size[0] != fig.canvas.width || size[1] != fig.canvas.height) {\n",
       "        fig._resize_canvas(size[0], size[1]);\n",
       "        fig.send_message(\"refresh\", {});\n",
       "    };\n",
       "}\n",
       "\n",
       "mpl.figure.prototype.handle_rubberband = function(fig, msg) {\n",
       "    var x0 = msg['x0'] / mpl.ratio;\n",
       "    var y0 = (fig.canvas.height - msg['y0']) / mpl.ratio;\n",
       "    var x1 = msg['x1'] / mpl.ratio;\n",
       "    var y1 = (fig.canvas.height - msg['y1']) / mpl.ratio;\n",
       "    x0 = Math.floor(x0) + 0.5;\n",
       "    y0 = Math.floor(y0) + 0.5;\n",
       "    x1 = Math.floor(x1) + 0.5;\n",
       "    y1 = Math.floor(y1) + 0.5;\n",
       "    var min_x = Math.min(x0, x1);\n",
       "    var min_y = Math.min(y0, y1);\n",
       "    var width = Math.abs(x1 - x0);\n",
       "    var height = Math.abs(y1 - y0);\n",
       "\n",
       "    fig.rubberband_context.clearRect(\n",
       "        0, 0, fig.canvas.width / mpl.ratio, fig.canvas.height / mpl.ratio);\n",
       "\n",
       "    fig.rubberband_context.strokeRect(min_x, min_y, width, height);\n",
       "}\n",
       "\n",
       "mpl.figure.prototype.handle_figure_label = function(fig, msg) {\n",
       "    // Updates the figure title.\n",
       "    fig.header.textContent = msg['label'];\n",
       "}\n",
       "\n",
       "mpl.figure.prototype.handle_cursor = function(fig, msg) {\n",
       "    var cursor = msg['cursor'];\n",
       "    switch(cursor)\n",
       "    {\n",
       "    case 0:\n",
       "        cursor = 'pointer';\n",
       "        break;\n",
       "    case 1:\n",
       "        cursor = 'default';\n",
       "        break;\n",
       "    case 2:\n",
       "        cursor = 'crosshair';\n",
       "        break;\n",
       "    case 3:\n",
       "        cursor = 'move';\n",
       "        break;\n",
       "    }\n",
       "    fig.rubberband_canvas.style.cursor = cursor;\n",
       "}\n",
       "\n",
       "mpl.figure.prototype.handle_message = function(fig, msg) {\n",
       "    fig.message.textContent = msg['message'];\n",
       "}\n",
       "\n",
       "mpl.figure.prototype.handle_draw = function(fig, msg) {\n",
       "    // Request the server to send over a new figure.\n",
       "    fig.send_draw_message();\n",
       "}\n",
       "\n",
       "mpl.figure.prototype.handle_image_mode = function(fig, msg) {\n",
       "    fig.image_mode = msg['mode'];\n",
       "}\n",
       "\n",
       "mpl.figure.prototype.updated_canvas_event = function() {\n",
       "    // Called whenever the canvas gets updated.\n",
       "    this.send_message(\"ack\", {});\n",
       "}\n",
       "\n",
       "// A function to construct a web socket function for onmessage handling.\n",
       "// Called in the figure constructor.\n",
       "mpl.figure.prototype._make_on_message_function = function(fig) {\n",
       "    return function socket_on_message(evt) {\n",
       "        if (evt.data instanceof Blob) {\n",
       "            /* FIXME: We get \"Resource interpreted as Image but\n",
       "             * transferred with MIME type text/plain:\" errors on\n",
       "             * Chrome.  But how to set the MIME type?  It doesn't seem\n",
       "             * to be part of the websocket stream */\n",
       "            evt.data.type = \"image/png\";\n",
       "\n",
       "            /* Free the memory for the previous frames */\n",
       "            if (fig.imageObj.src) {\n",
       "                (window.URL || window.webkitURL).revokeObjectURL(\n",
       "                    fig.imageObj.src);\n",
       "            }\n",
       "\n",
       "            fig.imageObj.src = (window.URL || window.webkitURL).createObjectURL(\n",
       "                evt.data);\n",
       "            fig.updated_canvas_event();\n",
       "            fig.waiting = false;\n",
       "            return;\n",
       "        }\n",
       "        else if (typeof evt.data === 'string' && evt.data.slice(0, 21) == \"data:image/png;base64\") {\n",
       "            fig.imageObj.src = evt.data;\n",
       "            fig.updated_canvas_event();\n",
       "            fig.waiting = false;\n",
       "            return;\n",
       "        }\n",
       "\n",
       "        var msg = JSON.parse(evt.data);\n",
       "        var msg_type = msg['type'];\n",
       "\n",
       "        // Call the  \"handle_{type}\" callback, which takes\n",
       "        // the figure and JSON message as its only arguments.\n",
       "        try {\n",
       "            var callback = fig[\"handle_\" + msg_type];\n",
       "        } catch (e) {\n",
       "            console.log(\"No handler for the '\" + msg_type + \"' message type: \", msg);\n",
       "            return;\n",
       "        }\n",
       "\n",
       "        if (callback) {\n",
       "            try {\n",
       "                // console.log(\"Handling '\" + msg_type + \"' message: \", msg);\n",
       "                callback(fig, msg);\n",
       "            } catch (e) {\n",
       "                console.log(\"Exception inside the 'handler_\" + msg_type + \"' callback:\", e, e.stack, msg);\n",
       "            }\n",
       "        }\n",
       "    };\n",
       "}\n",
       "\n",
       "// from http://stackoverflow.com/questions/1114465/getting-mouse-location-in-canvas\n",
       "mpl.findpos = function(e) {\n",
       "    //this section is from http://www.quirksmode.org/js/events_properties.html\n",
       "    var targ;\n",
       "    if (!e)\n",
       "        e = window.event;\n",
       "    if (e.target)\n",
       "        targ = e.target;\n",
       "    else if (e.srcElement)\n",
       "        targ = e.srcElement;\n",
       "    if (targ.nodeType == 3) // defeat Safari bug\n",
       "        targ = targ.parentNode;\n",
       "\n",
       "    // jQuery normalizes the pageX and pageY\n",
       "    // pageX,Y are the mouse positions relative to the document\n",
       "    // offset() returns the position of the element relative to the document\n",
       "    var x = e.pageX - $(targ).offset().left;\n",
       "    var y = e.pageY - $(targ).offset().top;\n",
       "\n",
       "    return {\"x\": x, \"y\": y};\n",
       "};\n",
       "\n",
       "/*\n",
       " * return a copy of an object with only non-object keys\n",
       " * we need this to avoid circular references\n",
       " * http://stackoverflow.com/a/24161582/3208463\n",
       " */\n",
       "function simpleKeys (original) {\n",
       "  return Object.keys(original).reduce(function (obj, key) {\n",
       "    if (typeof original[key] !== 'object')\n",
       "        obj[key] = original[key]\n",
       "    return obj;\n",
       "  }, {});\n",
       "}\n",
       "\n",
       "mpl.figure.prototype.mouse_event = function(event, name) {\n",
       "    var canvas_pos = mpl.findpos(event)\n",
       "\n",
       "    if (name === 'button_press')\n",
       "    {\n",
       "        this.canvas.focus();\n",
       "        this.canvas_div.focus();\n",
       "    }\n",
       "\n",
       "    var x = canvas_pos.x * mpl.ratio;\n",
       "    var y = canvas_pos.y * mpl.ratio;\n",
       "\n",
       "    this.send_message(name, {x: x, y: y, button: event.button,\n",
       "                             step: event.step,\n",
       "                             guiEvent: simpleKeys(event)});\n",
       "\n",
       "    /* This prevents the web browser from automatically changing to\n",
       "     * the text insertion cursor when the button is pressed.  We want\n",
       "     * to control all of the cursor setting manually through the\n",
       "     * 'cursor' event from matplotlib */\n",
       "    event.preventDefault();\n",
       "    return false;\n",
       "}\n",
       "\n",
       "mpl.figure.prototype._key_event_extra = function(event, name) {\n",
       "    // Handle any extra behaviour associated with a key event\n",
       "}\n",
       "\n",
       "mpl.figure.prototype.key_event = function(event, name) {\n",
       "\n",
       "    // Prevent repeat events\n",
       "    if (name == 'key_press')\n",
       "    {\n",
       "        if (event.which === this._key)\n",
       "            return;\n",
       "        else\n",
       "            this._key = event.which;\n",
       "    }\n",
       "    if (name == 'key_release')\n",
       "        this._key = null;\n",
       "\n",
       "    var value = '';\n",
       "    if (event.ctrlKey && event.which != 17)\n",
       "        value += \"ctrl+\";\n",
       "    if (event.altKey && event.which != 18)\n",
       "        value += \"alt+\";\n",
       "    if (event.shiftKey && event.which != 16)\n",
       "        value += \"shift+\";\n",
       "\n",
       "    value += 'k';\n",
       "    value += event.which.toString();\n",
       "\n",
       "    this._key_event_extra(event, name);\n",
       "\n",
       "    this.send_message(name, {key: value,\n",
       "                             guiEvent: simpleKeys(event)});\n",
       "    return false;\n",
       "}\n",
       "\n",
       "mpl.figure.prototype.toolbar_button_onclick = function(name) {\n",
       "    if (name == 'download') {\n",
       "        this.handle_save(this, null);\n",
       "    } else {\n",
       "        this.send_message(\"toolbar_button\", {name: name});\n",
       "    }\n",
       "};\n",
       "\n",
       "mpl.figure.prototype.toolbar_button_onmouseover = function(tooltip) {\n",
       "    this.message.textContent = tooltip;\n",
       "};\n",
       "mpl.toolbar_items = [[\"Home\", \"Reset original view\", \"fa fa-home icon-home\", \"home\"], [\"Back\", \"Back to previous view\", \"fa fa-arrow-left icon-arrow-left\", \"back\"], [\"Forward\", \"Forward to next view\", \"fa fa-arrow-right icon-arrow-right\", \"forward\"], [\"\", \"\", \"\", \"\"], [\"Pan\", \"Pan axes with left mouse, zoom with right\", \"fa fa-arrows icon-move\", \"pan\"], [\"Zoom\", \"Zoom to rectangle\", \"fa fa-square-o icon-check-empty\", \"zoom\"], [\"\", \"\", \"\", \"\"], [\"Download\", \"Download plot\", \"fa fa-floppy-o icon-save\", \"download\"]];\n",
       "\n",
       "mpl.extensions = [\"eps\", \"jpeg\", \"pdf\", \"png\", \"ps\", \"raw\", \"svg\", \"tif\"];\n",
       "\n",
       "mpl.default_extension = \"png\";var comm_websocket_adapter = function(comm) {\n",
       "    // Create a \"websocket\"-like object which calls the given IPython comm\n",
       "    // object with the appropriate methods. Currently this is a non binary\n",
       "    // socket, so there is still some room for performance tuning.\n",
       "    var ws = {};\n",
       "\n",
       "    ws.close = function() {\n",
       "        comm.close()\n",
       "    };\n",
       "    ws.send = function(m) {\n",
       "        //console.log('sending', m);\n",
       "        comm.send(m);\n",
       "    };\n",
       "    // Register the callback with on_msg.\n",
       "    comm.on_msg(function(msg) {\n",
       "        //console.log('receiving', msg['content']['data'], msg);\n",
       "        // Pass the mpl event to the overridden (by mpl) onmessage function.\n",
       "        ws.onmessage(msg['content']['data'])\n",
       "    });\n",
       "    return ws;\n",
       "}\n",
       "\n",
       "mpl.mpl_figure_comm = function(comm, msg) {\n",
       "    // This is the function which gets called when the mpl process\n",
       "    // starts-up an IPython Comm through the \"matplotlib\" channel.\n",
       "\n",
       "    var id = msg.content.data.id;\n",
       "    // Get hold of the div created by the display call when the Comm\n",
       "    // socket was opened in Python.\n",
       "    var element = $(\"#\" + id);\n",
       "    var ws_proxy = comm_websocket_adapter(comm)\n",
       "\n",
       "    function ondownload(figure, format) {\n",
       "        window.open(figure.imageObj.src);\n",
       "    }\n",
       "\n",
       "    var fig = new mpl.figure(id, ws_proxy,\n",
       "                           ondownload,\n",
       "                           element.get(0));\n",
       "\n",
       "    // Call onopen now - mpl needs it, as it is assuming we've passed it a real\n",
       "    // web socket which is closed, not our websocket->open comm proxy.\n",
       "    ws_proxy.onopen();\n",
       "\n",
       "    fig.parent_element = element.get(0);\n",
       "    fig.cell_info = mpl.find_output_cell(\"<div id='\" + id + \"'></div>\");\n",
       "    if (!fig.cell_info) {\n",
       "        console.error(\"Failed to find cell for figure\", id, fig);\n",
       "        return;\n",
       "    }\n",
       "\n",
       "    var output_index = fig.cell_info[2]\n",
       "    var cell = fig.cell_info[0];\n",
       "\n",
       "};\n",
       "\n",
       "mpl.figure.prototype.handle_close = function(fig, msg) {\n",
       "    var width = fig.canvas.width/mpl.ratio\n",
       "    fig.root.unbind('remove')\n",
       "\n",
       "    // Update the output cell to use the data from the current canvas.\n",
       "    fig.push_to_output();\n",
       "    var dataURL = fig.canvas.toDataURL();\n",
       "    // Re-enable the keyboard manager in IPython - without this line, in FF,\n",
       "    // the notebook keyboard shortcuts fail.\n",
       "    IPython.keyboard_manager.enable()\n",
       "    $(fig.parent_element).html('<img src=\"' + dataURL + '\" width=\"' + width + '\">');\n",
       "    fig.close_ws(fig, msg);\n",
       "}\n",
       "\n",
       "mpl.figure.prototype.close_ws = function(fig, msg){\n",
       "    fig.send_message('closing', msg);\n",
       "    // fig.ws.close()\n",
       "}\n",
       "\n",
       "mpl.figure.prototype.push_to_output = function(remove_interactive) {\n",
       "    // Turn the data on the canvas into data in the output cell.\n",
       "    var width = this.canvas.width/mpl.ratio\n",
       "    var dataURL = this.canvas.toDataURL();\n",
       "    this.cell_info[1]['text/html'] = '<img src=\"' + dataURL + '\" width=\"' + width + '\">';\n",
       "}\n",
       "\n",
       "mpl.figure.prototype.updated_canvas_event = function() {\n",
       "    // Tell IPython that the notebook contents must change.\n",
       "    IPython.notebook.set_dirty(true);\n",
       "    this.send_message(\"ack\", {});\n",
       "    var fig = this;\n",
       "    // Wait a second, then push the new image to the DOM so\n",
       "    // that it is saved nicely (might be nice to debounce this).\n",
       "    setTimeout(function () { fig.push_to_output() }, 1000);\n",
       "}\n",
       "\n",
       "mpl.figure.prototype._init_toolbar = function() {\n",
       "    var fig = this;\n",
       "\n",
       "    var nav_element = $('<div/>');\n",
       "    nav_element.attr('style', 'width: 100%');\n",
       "    this.root.append(nav_element);\n",
       "\n",
       "    // Define a callback function for later on.\n",
       "    function toolbar_event(event) {\n",
       "        return fig.toolbar_button_onclick(event['data']);\n",
       "    }\n",
       "    function toolbar_mouse_event(event) {\n",
       "        return fig.toolbar_button_onmouseover(event['data']);\n",
       "    }\n",
       "\n",
       "    for(var toolbar_ind in mpl.toolbar_items){\n",
       "        var name = mpl.toolbar_items[toolbar_ind][0];\n",
       "        var tooltip = mpl.toolbar_items[toolbar_ind][1];\n",
       "        var image = mpl.toolbar_items[toolbar_ind][2];\n",
       "        var method_name = mpl.toolbar_items[toolbar_ind][3];\n",
       "\n",
       "        if (!name) { continue; };\n",
       "\n",
       "        var button = $('<button class=\"btn btn-default\" href=\"#\" title=\"' + name + '\"><i class=\"fa ' + image + ' fa-lg\"></i></button>');\n",
       "        button.click(method_name, toolbar_event);\n",
       "        button.mouseover(tooltip, toolbar_mouse_event);\n",
       "        nav_element.append(button);\n",
       "    }\n",
       "\n",
       "    // Add the status bar.\n",
       "    var status_bar = $('<span class=\"mpl-message\" style=\"text-align:right; float: right;\"/>');\n",
       "    nav_element.append(status_bar);\n",
       "    this.message = status_bar[0];\n",
       "\n",
       "    // Add the close button to the window.\n",
       "    var buttongrp = $('<div class=\"btn-group inline pull-right\"></div>');\n",
       "    var button = $('<button class=\"btn btn-mini btn-primary\" href=\"#\" title=\"Stop Interaction\"><i class=\"fa fa-power-off icon-remove icon-large\"></i></button>');\n",
       "    button.click(function (evt) { fig.handle_close(fig, {}); } );\n",
       "    button.mouseover('Stop Interaction', toolbar_mouse_event);\n",
       "    buttongrp.append(button);\n",
       "    var titlebar = this.root.find($('.ui-dialog-titlebar'));\n",
       "    titlebar.prepend(buttongrp);\n",
       "}\n",
       "\n",
       "mpl.figure.prototype._root_extra_style = function(el){\n",
       "    var fig = this\n",
       "    el.on(\"remove\", function(){\n",
       "\tfig.close_ws(fig, {});\n",
       "    });\n",
       "}\n",
       "\n",
       "mpl.figure.prototype._canvas_extra_style = function(el){\n",
       "    // this is important to make the div 'focusable\n",
       "    el.attr('tabindex', 0)\n",
       "    // reach out to IPython and tell the keyboard manager to turn it's self\n",
       "    // off when our div gets focus\n",
       "\n",
       "    // location in version 3\n",
       "    if (IPython.notebook.keyboard_manager) {\n",
       "        IPython.notebook.keyboard_manager.register_events(el);\n",
       "    }\n",
       "    else {\n",
       "        // location in version 2\n",
       "        IPython.keyboard_manager.register_events(el);\n",
       "    }\n",
       "\n",
       "}\n",
       "\n",
       "mpl.figure.prototype._key_event_extra = function(event, name) {\n",
       "    var manager = IPython.notebook.keyboard_manager;\n",
       "    if (!manager)\n",
       "        manager = IPython.keyboard_manager;\n",
       "\n",
       "    // Check for shift+enter\n",
       "    if (event.shiftKey && event.which == 13) {\n",
       "        this.canvas_div.blur();\n",
       "        // select the cell after this one\n",
       "        var index = IPython.notebook.find_cell_index(this.cell_info[0]);\n",
       "        IPython.notebook.select(index + 1);\n",
       "    }\n",
       "}\n",
       "\n",
       "mpl.figure.prototype.handle_save = function(fig, msg) {\n",
       "    fig.ondownload(fig, null);\n",
       "}\n",
       "\n",
       "\n",
       "mpl.find_output_cell = function(html_output) {\n",
       "    // Return the cell and output element which can be found *uniquely* in the notebook.\n",
       "    // Note - this is a bit hacky, but it is done because the \"notebook_saving.Notebook\"\n",
       "    // IPython event is triggered only after the cells have been serialised, which for\n",
       "    // our purposes (turning an active figure into a static one), is too late.\n",
       "    var cells = IPython.notebook.get_cells();\n",
       "    var ncells = cells.length;\n",
       "    for (var i=0; i<ncells; i++) {\n",
       "        var cell = cells[i];\n",
       "        if (cell.cell_type === 'code'){\n",
       "            for (var j=0; j<cell.output_area.outputs.length; j++) {\n",
       "                var data = cell.output_area.outputs[j];\n",
       "                if (data.data) {\n",
       "                    // IPython >= 3 moved mimebundle to data attribute of output\n",
       "                    data = data.data;\n",
       "                }\n",
       "                if (data['text/html'] == html_output) {\n",
       "                    return [cell, data, j];\n",
       "                }\n",
       "            }\n",
       "        }\n",
       "    }\n",
       "}\n",
       "\n",
       "// Register the function which deals with the matplotlib target/channel.\n",
       "// The kernel may be null if the page has been refreshed.\n",
       "if (IPython.notebook.kernel != null) {\n",
       "    IPython.notebook.kernel.comm_manager.register_target('matplotlib', mpl.mpl_figure_comm);\n",
       "}\n"
      ],
      "text/plain": [
       "<IPython.core.display.Javascript object>"
      ]
     },
     "metadata": {},
     "output_type": "display_data"
    },
    {
     "data": {
      "text/html": [
       "<div id='a75b4422-8394-40a6-b952-817794f39589'></div>"
      ],
      "text/plain": [
       "<IPython.core.display.HTML object>"
      ]
     },
     "metadata": {},
     "output_type": "display_data"
    }
   ],
   "source": [
    "%matplotlib notebook\n",
    "import matplotlib.pyplot as plt\n",
    "from mpl_toolkits import mplot3d\n",
    "from mpl_toolkits.mplot3d import axes3d \n",
    "import numpy as np\n",
    "plt.rcParams[\"figure.figsize\"] = (8,5)                                 \n",
    "Q = 0.001 # pumping rate [L3/T]\n",
    "T = 0.001 # transmissivity [L2/T]\n",
    "r0 = 0.1  # radius [L]\n",
    "s0 = 1    # drawdown [L]\n",
    "\n",
    "fig = plt.figure()\n",
    "ax = fig.add_subplot(111, projection='3d')\n",
    "\n",
    "# Create the mesh in polar coordinates and compute corresponding Z.\n",
    "r = np.linspace(r0, 10, 50)\n",
    "p = np.linspace(0, 2*np.pi, 50)\n",
    "R, P = np.meshgrid(r, p)\n",
    "Z = -s0+Q*np.log(R/r0)/2/np.pi/T\n",
    "\n",
    "# Express the mesh in the cartesian system.\n",
    "X, Y = R*np.cos(P), R*np.sin(P)\n",
    "\n",
    "# Plot the surface.\n",
    "ax.plot_surface(X, Y, Z, cmap=plt.cm.YlGnBu_r)\n",
    "\n",
    "# Tweak the limits and add latex math labels.\n",
    "ax.set_zlim(-1,0)\n",
    "ax.set_xlabel(r'$x[L]$', fontsize = 14)\n",
    "ax.set_ylabel(r'$y[L]$', fontsize = 12)\n",
    "ax.set_zlabel(r'$h[L]$', fontsize = 12)\n",
    "\n",
    "plt.show()"
   ]
  },
  {
   "cell_type": "markdown",
   "metadata": {
    "hideCode": true,
    "hidePrompt": true,
    "hide_input": false
   },
   "source": [
    "The plot is printed using a mathematical formula, which would deliver the value of negative infinity in the center of the borehole. The formula for steady drawdown in a confined aquifer was already used by Thiem (1906):"
   ]
  },
  {
   "cell_type": "markdown",
   "metadata": {
    "hideCode": true,
    "hidePrompt": true
   },
   "source": [
    "$$ s(r) = s_0 - \\frac Q {2 \\pi T} \\text{log} (r/r_0)$$"
   ]
  },
  {
   "cell_type": "markdown",
   "metadata": {
    "hideCode": true,
    "hidePrompt": true
   },
   "source": [
    "$Q$ is the pumping rate, $T$ the transmissivity of the aquifer. The physical unit of $Q$ is volume/time, for $T$ it's area/time. $r_0$ denotes a radial distance, where the drawdown $s_0$ is known. "
   ]
  },
  {
   "cell_type": "markdown",
   "metadata": {
    "hideCode": true,
    "hidePrompt": true
   },
   "source": [
    "As only positive values for $s$ make sense, a limit radius $R$ can be calculated, for which Thiem equation holds. From the condition $s(R)=0$ one obtains a value for the outer radius $R$:  "
   ]
  },
  {
   "cell_type": "markdown",
   "metadata": {
    "hideCode": true,
    "hidePrompt": true
   },
   "source": [
    "$$ R = r_0 \\text{exp} (\\frac {2 \\pi T}{Q} s_0)$$"
   ]
  },
  {
   "cell_type": "markdown",
   "metadata": {
    "hideCode": true,
    "hidePrompt": true
   },
   "source": [
    "Using $R$ one obtains the formula for the drawdown:"
   ]
  },
  {
   "cell_type": "markdown",
   "metadata": {
    "hideCode": true,
    "hidePrompt": true
   },
   "source": [
    "$$ s(r) = - \\frac Q {2 \\pi T} \\text{log} (r/R)$$"
   ]
  },
  {
   "cell_type": "markdown",
   "metadata": {
    "hideCode": true,
    "hidePrompt": true
   },
   "source": [
    "**Task 2.1**: A well is pumped with a constant rate of 0.001 m$^3$/s. In 50 m distance no drawdown is observed. Change the transmissivity [m$^2$/s] and see the effect on the drawdown as a function of radial distance."
   ]
  },
  {
   "cell_type": "code",
   "execution_count": 3,
   "metadata": {
    "hideCode": true,
    "hidePrompt": true,
    "hide_input": false
   },
   "outputs": [
    {
     "data": {
      "application/vnd.jupyter.widget-view+json": {
       "model_id": "b0a572e7c3f54b278bb11428c3894b73",
       "version_major": 2,
       "version_minor": 0
      },
      "text/plain": [
       "BoundedFloatText(value=0.0001, description='$T$ [m$^2$/s]:', max=1.0, min=1e-07)"
      ]
     },
     "metadata": {},
     "output_type": "display_data"
    }
   ],
   "source": [
    "import ipywidgets as widgets\n",
    "wT = widgets.BoundedFloatText(value=1.e-4, min=1.e-7, max=1.0, description='$T$ [m$^2$/s]:', disabled=False)\n",
    "wT"
   ]
  },
  {
   "cell_type": "code",
   "execution_count": 4,
   "metadata": {
    "hideCode": true,
    "hidePrompt": true,
    "hide_input": true
   },
   "outputs": [
    {
     "data": {
      "application/vnd.jupyter.widget-view+json": {
       "model_id": "9e5b7699cd674576b4378578d94039f0",
       "version_major": 2,
       "version_minor": 0
      },
      "text/plain": [
       "VBox(children=(Button(description='Test Drawdown', style=ButtonStyle()),))"
      ]
     },
     "metadata": {},
     "output_type": "display_data"
    }
   ],
   "source": [
    "import numpy as np\n",
    "import matplotlib.pyplot as plt\n",
    "import ipywidgets as widgets\n",
    "\n",
    "plt.rcParams[\"figure.figsize\"] = (8,4)                 \n",
    "\n",
    "def on_wp0_clicked(self):\n",
    "    Q = 0.001\n",
    "    T = wT.value\n",
    "    r0 = 50\n",
    "    s0 = 0\n",
    "    r = np.linspace (0.1,50,200)\n",
    "    fig = plt.figure(); ax = plt.axes()\n",
    "    ax.plot (r,s0-Q*np.log(r/r0)/2/np.pi/T,label = 'drawdown')\n",
    "    ax.set_xlabel(r'$r[m]$', fontsize = 12)\n",
    "    ax.set_ylabel(r'$s[m]$', fontsize = 12)\n",
    "    ax.text (20,9.3,'$T = %7.6f  m^2/d$' % (T, ),fontsize=12)\n",
    "    plt.grid()\n",
    "    plt.legend(loc = 'upper right',fontsize=12); \n",
    "\n",
    "wp0 = widgets.Button(description='Test Drawdown')        \n",
    "wp0.on_click(on_wp0_clicked)   \n",
    "widgets.VBox([wp0])"
   ]
  },
  {
   "cell_type": "markdown",
   "metadata": {
    "hideCode": true,
    "hidePrompt": true
   },
   "source": [
    "Let's examine the situation in which a constant drawdown of 10 m is observed in the well. The well radius is 0.1 m."
   ]
  },
  {
   "cell_type": "code",
   "execution_count": 5,
   "metadata": {
    "hideCode": true,
    "hidePrompt": true,
    "hide_input": true
   },
   "outputs": [
    {
     "data": {
      "application/vnd.jupyter.widget-view+json": {
       "model_id": "d4f9105e6a1c4a12b9ddd96ef41f8910",
       "version_major": 2,
       "version_minor": 0
      },
      "text/plain": [
       "VBox(children=(Button(description='Plot Drawdown', style=ButtonStyle()),))"
      ]
     },
     "metadata": {},
     "output_type": "display_data"
    }
   ],
   "source": [
    "import numpy as np\n",
    "import matplotlib.pyplot as plt\n",
    "import ipywidgets as widgets\n",
    "\n",
    "plt.rcParams[\"figure.figsize\"] = (8,4)                 \n",
    "\n",
    "def on_wp1_clicked(self):\n",
    "    Q = 0.001\n",
    "    T = wT.value\n",
    "    r0 = 0.1\n",
    "    s0 = 10\n",
    "    r = np.linspace (0.1,50,200)\n",
    "    fig = plt.figure(); ax = plt.axes()\n",
    "    ax.plot (r,s0-Q*np.log(r/r0)/2/np.pi/T,label = 'drawdown')\n",
    "    ax.set_xlabel(r'$r[m]$', fontsize = 12)\n",
    "    ax.set_ylabel(r'$s[m]$', fontsize = 12)\n",
    "    ax.text (20,9.3,'$T = %7.6f $ $ m^2/d$' % (T, ),fontsize=12)\n",
    "    plt.grid()\n",
    "    plt.legend(loc = 'upper right',fontsize=12); \n",
    "\n",
    "wp1 = widgets.Button(description='Plot Drawdown')        \n",
    "wp1.on_click(on_wp1_clicked)   \n",
    "widgets.VBox([wp1])"
   ]
  },
  {
   "cell_type": "markdown",
   "metadata": {
    "hideCode": true,
    "hidePrompt": true
   },
   "source": [
    "The most simple way to derive a hydraulic parameter from a pumping test requires the long-term steady state drawdown observed in the field. In addition to the above noted conditions this requires that the pump is operated long enough to reach the steady state, where drawdown is not changing anymore. Let's exercise the procedure in the following cell. "
   ]
  },
  {
   "cell_type": "markdown",
   "metadata": {
    "hideCode": true,
    "hidePrompt": true
   },
   "source": [
    "**Task 2.2**: In an distance of 20 m a drawdown of 2 m is observed. Using the 'Plot Drawdown' graphics, can you estimate the transmissivity $T$ of the confined aquifer?    "
   ]
  },
  {
   "cell_type": "markdown",
   "metadata": {
    "hideCode": true,
    "hidePrompt": true
   },
   "source": [
    "Compare your result with the one obtained by the classical formula of Dupuit for calculating $T$:"
   ]
  },
  {
   "cell_type": "code",
   "execution_count": 6,
   "metadata": {
    "hideCode": true,
    "hidePrompt": true,
    "hide_input": false
   },
   "outputs": [
    {
     "data": {
      "application/vnd.jupyter.widget-view+json": {
       "model_id": "26e56fc206ff44e888a79a5232dc544f",
       "version_major": 2,
       "version_minor": 0
      },
      "text/plain": [
       "VBox(children=(Button(description='Dupuit evaluation', style=ButtonStyle()),))"
      ]
     },
     "metadata": {},
     "output_type": "display_data"
    }
   ],
   "source": [
    "def on_wp2_clicked(self):\n",
    "    T = 0.001*np.log(0.1/20)/2/np.pi/(2-10)\n",
    "    print ('T =',T, '[m2/s]')\n",
    "\n",
    "wp2 = widgets.Button(description='Dupuit evaluation')        \n",
    "wp2.on_click(on_wp2_clicked) \n",
    "widgets.VBox([wp2])"
   ]
  },
  {
   "cell_type": "markdown",
   "metadata": {
    "hideCode": true,
    "hidePrompt": true
   },
   "source": [
    "The formula of Dupuit is obtained by resolving the Thiem equation for $T$:"
   ]
  },
  {
   "cell_type": "markdown",
   "metadata": {
    "hideCode": true,
    "hidePrompt": true
   },
   "source": [
    "$$ T = \\frac {Q}{2\\pi} \\frac {\\text{log}(r_0/r_{well})}{s_{well}-s_0}$$"
   ]
  },
  {
   "cell_type": "markdown",
   "metadata": {
    "hideCode": true,
    "hidePrompt": true
   },
   "source": [
    "where $r_{well}$ denotes the borehole diameter, where the drawdown $s_{well}$ is measured as final drawdown and was proposed by Dupuit already in 1857. In fact this method of obtaining $T$ can be applied if the steady drawdown is known at two radial distances.   "
   ]
  },
  {
   "cell_type": "markdown",
   "metadata": {
    "hideCode": true,
    "hidePrompt": true
   },
   "source": [
    "There are many reasons why measurements in the borehole itself are **not** a good option for such evaluations. The drawdown in the borehole may be corrupted because the direct vicinity of the well does not represent aquifer conditions. The original condion of the porous medium is surely disturbed by the drilling operation itself, and also by the installation of the well with cement or grout replacing the original material in the borehole. Also some other of the conditions mentioned above may not be fullfilled. If the well is not fully penetrating, i.e. if the well screen does not extend over the entire thickness of the aquifer, close to the well there may be regions with significant vertical velocity components.     \n",
    "\n",
    "Using the formula of Dupuit is the option without alternative, if aside from the measurement in the borehole only data from one single observation borehole is available.  "
   ]
  },
  {
   "cell_type": "markdown",
   "metadata": {
    "hideCode": true,
    "hidePrompt": true
   },
   "source": [
    "Dupuit (1857) distinguished the confined and the unconfined cases, as did Thiem. The Thiem formula for an unconfined aquifer is:"
   ]
  },
  {
   "cell_type": "markdown",
   "metadata": {
    "hideCode": true,
    "hidePrompt": true
   },
   "source": [
    "$$ h(r) = \\sqrt{h_0^2 + \\frac Q {\\pi K} \\text{log} (r/r_0)}$$"
   ]
  },
  {
   "cell_type": "markdown",
   "metadata": {
    "hideCode": true,
    "hidePrompt": true
   },
   "source": [
    "where $h$ denotes the piezometric head, i.e. the elevation of the water table above the aquifer base, and $K$ the hydaulic conductivity. For the following evaluations the head in the well is 10 m, the well radius is 0.1 m and the pumping rate 0.001 m$^3$/s. The conductivity can be altered in the input box.  "
   ]
  },
  {
   "cell_type": "code",
   "execution_count": 7,
   "metadata": {
    "hideCode": true,
    "hidePrompt": true,
    "hide_input": false
   },
   "outputs": [
    {
     "data": {
      "application/vnd.jupyter.widget-view+json": {
       "model_id": "47a57b122e584d548c75a12f6bac27bd",
       "version_major": 2,
       "version_minor": 0
      },
      "text/plain": [
       "BoundedFloatText(value=1e-05, description='$K$ [m/s]:', max=0.01, min=1e-08)"
      ]
     },
     "metadata": {},
     "output_type": "display_data"
    }
   ],
   "source": [
    "wK = widgets.BoundedFloatText(value=1.e-5, min=1.e-8, max=1.e-2, description='$K$ [m/s]:', disabled=False)\n",
    "wK"
   ]
  },
  {
   "cell_type": "code",
   "execution_count": 8,
   "metadata": {
    "hideCode": true,
    "hidePrompt": true,
    "hide_input": false
   },
   "outputs": [
    {
     "data": {
      "application/vnd.jupyter.widget-view+json": {
       "model_id": "bb155ef815984fa8bcd5893465ce6b91",
       "version_major": 2,
       "version_minor": 0
      },
      "text/plain": [
       "VBox(children=(Button(description='Plot Head', style=ButtonStyle()),))"
      ]
     },
     "metadata": {},
     "output_type": "display_data"
    }
   ],
   "source": [
    "import numpy as np\n",
    "import matplotlib.pyplot as plt\n",
    "import ipywidgets as widgets\n",
    "\n",
    "plt.rcParams[\"figure.figsize\"] = (8,4)             \n",
    "\n",
    "def on_wp3_clicked(self):\n",
    "    Q = 0.001\n",
    "    K = wK.value\n",
    "    r0 = 0.1\n",
    "    h0 = 10.\n",
    "    r = np.linspace (0.1,50,200)\n",
    "    fig = plt.figure(); ax = plt.axes()\n",
    "    ax.plot (r,np.sqrt(h0*h0+Q*np.log(r/r0)/np.pi/K),label = 'head')\n",
    "    ax.set_xlabel(r'$r[m]$', fontsize = 12)\n",
    "    ax.set_ylabel(r'$h[m]$', fontsize = 12)\n",
    "    ax.text (20,10.3,'$K = %8.7f $ $  m/d$' % (K, ),fontsize=12)\n",
    "    plt.grid()\n",
    "    plt.legend(loc = 'lower right',fontsize=12); \n",
    "\n",
    "wp3 = widgets.Button(description='Plot Head')        \n",
    "wp3.on_click(on_wp3_clicked)   \n",
    "widgets.VBox([wp3])"
   ]
  },
  {
   "cell_type": "markdown",
   "metadata": {
    "hideCode": true,
    "hidePrompt": true
   },
   "source": [
    "**Task 2.3**: Get an estimation for the conductivity $K$, if in 20 m distance a final value of 18 m for hydraulic head was observed."
   ]
  },
  {
   "cell_type": "markdown",
   "metadata": {
    "hideCode": true,
    "hidePrompt": true
   },
   "source": [
    "The corresponding Dupuit formula is"
   ]
  },
  {
   "cell_type": "markdown",
   "metadata": {
    "hideCode": true,
    "hidePrompt": true
   },
   "source": [
    "$$ K = \\frac {Q}{\\pi} \\frac {\\text{log}(r_0/r_{well})}{h_0^2-h_{well}^2}$$"
   ]
  },
  {
   "cell_type": "markdown",
   "metadata": {
    "hideCode": true,
    "hidePrompt": true
   },
   "source": [
    "Use the Dupuit formula to determine $K$ using the following button! Compare with your result above!"
   ]
  },
  {
   "cell_type": "code",
   "execution_count": 9,
   "metadata": {
    "hideCode": true,
    "hidePrompt": true,
    "hide_input": true
   },
   "outputs": [
    {
     "data": {
      "application/vnd.jupyter.widget-view+json": {
       "model_id": "5e86ce2959774aeb9e0afaa5a954e606",
       "version_major": 2,
       "version_minor": 0
      },
      "text/plain": [
       "VBox(children=(Button(description='Dupuit evaluation', style=ButtonStyle()),))"
      ]
     },
     "metadata": {},
     "output_type": "display_data"
    }
   ],
   "source": [
    "def on_wp3_clicked(self):\n",
    "    h = 18; h0 = 10\n",
    "    K = 0.001*np.log(0.1/20)/np.pi/(h0*h0-h*h)\n",
    "    print ('K =',K, 'm/s')\n",
    "\n",
    "wp3 = widgets.Button(description='Dupuit evaluation')        \n",
    "wp3.on_click(on_wp3_clicked) \n",
    "widgets.VBox([wp3])"
   ]
  },
  {
   "cell_type": "markdown",
   "metadata": {
    "hideCode": true,
    "hidePrompt": true
   },
   "source": [
    "If the aquifer is confined by a layer with a low conductivty that allows some leakage, we call this a leaky aquifer. A leaky aquifer can be connected to another layer by a semi-permeable stratum, above or below. The semi-permeable layer can be characterised by a resistance $c$, which has the unit of time. A formula for the steady state drawdown in a leaky aquifer was developed by de Glee (1930): "
   ]
  },
  {
   "cell_type": "markdown",
   "metadata": {
    "hideCode": true,
    "hidePrompt": true
   },
   "source": [
    "$$ s(r) = \\frac Q {2 \\pi T} K_0 (\\frac {r}{\\sqrt{Tc}})$$"
   ]
  },
  {
   "cell_type": "markdown",
   "metadata": {
    "hideCode": true,
    "hidePrompt": true
   },
   "source": [
    "$K_0$ denotes the modified Bessel function 2. type and 0. order that can be calculated easily using mathematical toolboxes on the computer. Let's see the drawdown for the given value for the pumping rate and the transmissivity entered above.  "
   ]
  },
  {
   "cell_type": "code",
   "execution_count": 10,
   "metadata": {
    "hideCode": true,
    "hidePrompt": true,
    "hide_input": true,
    "scrolled": true
   },
   "outputs": [
    {
     "data": {
      "application/vnd.jupyter.widget-view+json": {
       "model_id": "f2ffd1beefe747fbaa6b1bae2410b3c7",
       "version_major": 2,
       "version_minor": 0
      },
      "text/plain": [
       "BoundedFloatText(value=10000000.0, description='$c$ [s]:', max=10000000000.0, min=1.0)"
      ]
     },
     "metadata": {},
     "output_type": "display_data"
    }
   ],
   "source": [
    "import ipywidgets as widgets\n",
    "wc = widgets.BoundedFloatText(value=1.e7, min=1., max=1.e10, description='$c$ [s]:', disabled=False)\n",
    "wc"
   ]
  },
  {
   "cell_type": "code",
   "execution_count": 11,
   "metadata": {
    "hideCode": true,
    "hidePrompt": true,
    "hide_input": false
   },
   "outputs": [
    {
     "data": {
      "application/vnd.jupyter.widget-view+json": {
       "model_id": "0fd7cd1eb3a44a12809c0388a514fc95",
       "version_major": 2,
       "version_minor": 0
      },
      "text/plain": [
       "VBox(children=(Button(description='Plot Drawdown', style=ButtonStyle()),))"
      ]
     },
     "metadata": {},
     "output_type": "display_data"
    }
   ],
   "source": [
    "import numpy as np\n",
    "import matplotlib.pyplot as plt\n",
    "import ipywidgets as widgets\n",
    "from scipy.special import kn as besselk\n",
    "plt.rcParams[\"figure.figsize\"] = (8,4)                                 # omit this in the Spider program\n",
    "\n",
    "def on_wp4_clicked(self):\n",
    "    Q = 0.001\n",
    "    T = 0.0001\n",
    "    c = wc.value\n",
    "    r = np.linspace (0.1,50,200)\n",
    "    fig = plt.figure(); ax = plt.axes()\n",
    "    ax.plot (r,Q*besselk(0,r/np.sqrt(T*c))/2/np.pi/T,label = 'drawdown')\n",
    "    ax.set_xlabel(r'$r[m]$', fontsize = 12)\n",
    "    ax.set_ylabel(r'$s[m]$', fontsize = 12)\n",
    "    ax.text (20,9,'$c = %8.0f $ $ s$' % (c, ),fontsize=12)\n",
    "    plt.grid()\n",
    "    plt.legend(loc = 'upper right',fontsize=12); \n",
    "\n",
    "wp4 = widgets.Button(description='Plot Drawdown')        \n",
    "wp4.on_click(on_wp4_clicked)   \n",
    "widgets.VBox([wp4])"
   ]
  },
  {
   "cell_type": "markdown",
   "metadata": {
    "hideCode": true,
    "hidePrompt": true,
    "hide_input": false
   },
   "source": [
    "**Task 2.4**: In an distance of 20 m a drawdown of 2 m is observed. Can you estimate the resistance $c$ of the leaky layer? Pumping rate and transmissivity are known as $Q$=0.001 m$^3$/s and $T$=0.0001 m$^2$/s.   "
   ]
  },
  {
   "cell_type": "markdown",
   "metadata": {
    "hideCode": true,
    "hidePrompt": true
   },
   "source": [
    "One may guess already that the manual evaluation that is demonstrated here becomes more difficult and time-consuming, if both $T$ and $c$ are unknown. Then it is nearby to use the relatively unlimited calculating power of a computer to perform the task. This is in fact done in all those more complex situations that are described in the following.     "
   ]
  },
  {
   "cell_type": "markdown",
   "metadata": {
    "hideCode": true,
    "hidePrompt": true
   },
   "source": [
    "## Pump Tests in Confined Aquifers - Theis"
   ]
  },
  {
   "cell_type": "markdown",
   "metadata": {
    "hideCode": true,
    "hidePrompt": true
   },
   "source": [
    "The determination of hydraulic parameters due to the steady state depends on very few observed values only. In the examples only one value was required to come up with a solution. As there is always a large uncertainty in the measurement of field data, it is more feasable if more field data can be obtained that deliver better information about the response of the aquifer due to pumping. Thus in the usual practice of pumping tests the development of the drawdown is recorded. This also has the advantage that pumping tests can be evaluated in which the steady state is not reached at the end of the test, when the pumped is switched off.\n",
    "\n",
    "The formula for the unsteady drawdown in a confined aquifer as function of the distance $r$ and time $t$ was published by Theis (1952): "
   ]
  },
  {
   "cell_type": "markdown",
   "metadata": {
    "hideCode": true,
    "hidePrompt": true
   },
   "source": [
    "$$ s(r, t) = \\frac Q {4 \\pi T} W(u),\\,\\,\\,\\, u = \\frac {r^2 S} {4 T t}$$"
   ]
  },
  {
   "cell_type": "markdown",
   "metadata": {
    "hideCode": true,
    "hidePrompt": true
   },
   "source": [
    "In addition to the parameters that are introduced above, the storativity $S$ appears. $S$ is dimensionless and determines how quick the aquifer responds to the changed regime of pumping. $W$ denotes the well function, also known as exponential integral. $W$ is available in mathematical software packages, which makes the computation of the drawdown an easy thing to do. Click the following buttons to see the well function in differnent coordinate axes.   "
   ]
  },
  {
   "cell_type": "code",
   "execution_count": 12,
   "metadata": {
    "hideCode": true,
    "hidePrompt": true,
    "hide_input": true
   },
   "outputs": [
    {
     "data": {
      "application/vnd.jupyter.widget-view+json": {
       "model_id": "cac20308d6d34630a88f844144611fb5",
       "version_major": 2,
       "version_minor": 0
      },
      "text/plain": [
       "HBox(children=(Button(description='linear u', style=ButtonStyle()), Button(description='semi-log u', style=But…"
      ]
     },
     "metadata": {},
     "output_type": "display_data"
    }
   ],
   "source": [
    "import numpy as np\n",
    "import matplotlib.pyplot as plt\n",
    "import ipywidgets as widgets\n",
    "from scipy.special import exp1\n",
    "plt.rcParams[\"figure.figsize\"] = (8,4)                                 # omit this in the Spider program\n",
    "\n",
    "def on_wflin_clicked(self):   \n",
    "    fig = plt.figure(); ax = plt.axes()\n",
    "    u = np.linspace (1.e-3,1,100)    \n",
    "    plt.plot (u,exp1(u),label = 'well function')\n",
    "    ax.set_xlabel('$u$', fontsize = 14); ax.set_ylabel('$W$', fontsize = 14)\n",
    "    plt.grid()\n",
    "    plt.legend(loc = 'upper right',fontsize=12);\n",
    "    \n",
    "def on_wflog_clicked(self): \n",
    "    fig = plt.figure(); ax = plt.axes()\n",
    "    u = np.logspace (-12,1,100)    \n",
    "    plt.plot (u,exp1(u),label = 'well function')\n",
    "    ax.set_xscale('log')\n",
    "    ax.set_xlabel('$u$', fontsize = 14); ax.set_ylabel('$W$', fontsize = 14)\n",
    "    plt.grid()\n",
    "    plt.legend(loc = 'upper right',fontsize=12);\n",
    "\n",
    "def on_wflog1_clicked(self): \n",
    "    fig = plt.figure(); ax = plt.axes()\n",
    "    u = np.logspace (-12,1,100)    \n",
    "    plt.plot (1/u,exp1(u),label = 'well function')\n",
    "    ax.set_xscale('log')\n",
    "    ax.set_xlabel('1/$u$', fontsize = 14); ax.set_ylabel('$W$', fontsize = 14)\n",
    "    plt.grid()\n",
    "    plt.legend(loc = 'lower right',fontsize=12);    \n",
    "    \n",
    "wflin = widgets.Button(description='linear u')        \n",
    "wflin.on_click(on_wflin_clicked) \n",
    "wflog = widgets.Button(description='semi-log u')        \n",
    "wflog.on_click(on_wflog_clicked)\n",
    "wflog1 = widgets.Button(description='semi-log 1/u')        \n",
    "wflog1.on_click(on_wflog1_clicked)\n",
    "widgets.HBox([wflin,wflog,wflog1])"
   ]
  },
  {
   "cell_type": "markdown",
   "metadata": {
    "hideCode": true,
    "hidePrompt": true,
    "hide_input": false
   },
   "source": [
    "The 1/$u$ axis is often used, as it represents increasing time on the horizontal axis, as we usually look at real data. The semi-logarithmic plots show that over almost the entire range of $u$-values the well function can be approximated by a straight line. That is the clue to use graphical methods for estimation of the unknown $T$ and $S$ values, as will be outlined later.   "
   ]
  },
  {
   "cell_type": "markdown",
   "metadata": {
    "hideCode": true,
    "hidePrompt": true
   },
   "source": [
    "The Theis formula is implemented in the following as a function of it's parameters. For values of pumping rate *Q*, distance between pumping and observation well *r*, transmissivity *T* and storativity *S* the resulting drawdown *s* as is depicted as it develops in time $t$. "
   ]
  },
  {
   "cell_type": "code",
   "execution_count": 13,
   "metadata": {
    "hideCode": true,
    "hidePrompt": true,
    "hide_input": true,
    "scrolled": false
   },
   "outputs": [
    {
     "data": {
      "application/vnd.jupyter.widget-view+json": {
       "model_id": "a9084b3b41644149a7999d5b834c455a",
       "version_major": 2,
       "version_minor": 0
      },
      "text/plain": [
       "HBox(children=(FloatText(value=0.001, description='$Q$ [m$^3$/s]:'), FloatText(value=10.0, description='$r$ [m…"
      ]
     },
     "metadata": {},
     "output_type": "display_data"
    }
   ],
   "source": [
    "wQ = widgets.FloatText(value=1.e-3, min = 1.e-7, max = 1., description='$Q$ [m$^3$/s]:', disabled=False)\n",
    "wr = widgets.FloatText(value=10, description='$r$ [m]:', min=1.e-2, max = 1.e4, disabled=False)\n",
    "widgets.HBox([wQ, wr])"
   ]
  },
  {
   "cell_type": "code",
   "execution_count": 14,
   "metadata": {
    "hideCode": true,
    "hidePrompt": true,
    "hide_input": true,
    "scrolled": true
   },
   "outputs": [
    {
     "data": {
      "application/vnd.jupyter.widget-view+json": {
       "model_id": "376f7aac93004b8e8129629b9e8b9512",
       "version_major": 2,
       "version_minor": 0
      },
      "text/plain": [
       "HBox(children=(FloatText(value=0.001, description='$T$ [m$^2$/s]:'), FloatText(value=0.01, description='$S$ [-…"
      ]
     },
     "metadata": {},
     "output_type": "display_data"
    }
   ],
   "source": [
    "wT2 = widgets.FloatText(value=1.e-3, min = 1.e-7, max = 1., description='$T$ [m$^2$/s]:', disabled=False)\n",
    "wS = widgets.FloatText(value=1.e-2, description='$S$ [-]:', min=1.e-7, max = 1., disabled=False)\n",
    "widgets.HBox([wT2, wS])"
   ]
  },
  {
   "cell_type": "code",
   "execution_count": 15,
   "metadata": {
    "hideCode": true,
    "hidePrompt": true,
    "hide_input": false
   },
   "outputs": [
    {
     "data": {
      "application/vnd.jupyter.widget-view+json": {
       "model_id": "7d5f7201e41542f4ad06d3d22bfa54b7",
       "version_major": 2,
       "version_minor": 0
      },
      "text/plain": [
       "HBox(children=(Button(description='Plot drawdown', style=ButtonStyle()), Checkbox(value=False, description='lo…"
      ]
     },
     "metadata": {},
     "output_type": "display_data"
    }
   ],
   "source": [
    "import numpy as np\n",
    "import matplotlib.pyplot as plt\n",
    "from matplotlib.ticker import (MultipleLocator, AutoMinorLocator)\n",
    "import ipywidgets as widgets\n",
    "from scipy.special import exp1\n",
    "plt.rcParams[\"figure.figsize\"] = (8,4)                                 # omit this in the Spider program\n",
    "\n",
    "def on_wp5_clicked(self):\n",
    "    Q = wQ.value\n",
    "    T = wT2.value\n",
    "    S = wS.value\n",
    "    r = wr.value\n",
    "    fig = plt.figure(); ax = plt.axes()\n",
    "    if wca.value: \n",
    "        ax.set_xscale('log');\n",
    "        t = np.logspace (1,6,100)\n",
    "    else:\n",
    "        ax.xaxis.set_major_locator(MultipleLocator(3600)) \n",
    "        t = np.linspace (10,50000,100)\n",
    "    plt.plot (t,Q*exp1(r*r*S/4/T/t)/4/np.pi/T,label = 'drawdown')\n",
    "    ax.set_xlabel(r'$t[s]$', fontsize = 8)\n",
    "    ax.set_ylabel(r'$s[m]$', fontsize = 12)\n",
    "    plt.gcf().text(0.65, 0.4, '$Q = %6.5f $ $ m^3/s$' % (Q, ), fontsize=12)\n",
    "    plt.gcf().text(0.65, 0.35, '$r = %6.5f $ $ m$' % (r, ), fontsize=12)\n",
    "    plt.gcf().text(0.65, 0.3, '$T = %6.5f $ $ m^2/s$' % (T, ), fontsize=12)\n",
    "    plt.gcf().text(0.65, 0.25, '$S = %6.5f  $' % (S, ), fontsize=12)\n",
    "    plt.grid()\n",
    "    plt.legend(loc = 'upper right',fontsize=12);\n",
    "    \n",
    "wp5 = widgets.Button(description='Plot drawdown')        \n",
    "wp5.on_click(on_wp5_clicked)   \n",
    "wca = widgets.Checkbox(value=False, description='log', disabled=False, indent=False)\n",
    "widgets.HBox([wp5,wca]) "
   ]
  },
  {
   "cell_type": "markdown",
   "metadata": {
    "hideCode": true,
    "hidePrompt": true,
    "hide_input": false
   },
   "source": [
    "**Task 3.1**: Change storativity and transmissivity and observe the changes in drawdown!\n",
    "\n",
    "**Task 3.2**: For given $Q$=0.002 m$^3$/s, $r$=20 m, and $T$=0.002 m$^2$/s after 10 hours pumping a drawdown of 0.5 m was measured. Estimate $S$!\n",
    "\n",
    "**Task 3.3**: For given $Q$=0.01 m$^3$/s, $r$=7.5 m, and $S$=5.e-4 after 3 hours pumping a drawdown of 0.5 m was observed. Estimate $T$!"
   ]
  },
  {
   "cell_type": "markdown",
   "metadata": {
    "hideCode": true,
    "hidePrompt": true
   },
   "source": [
    "In real pumping tests the situation is more complex due to the fact that both transmissivity and storativity are unknown. There is no single curve that is the best fit of a single measurement. It is usual practice that drawdown values are recorded at fixed time instants, so that a series of values is given. See for example the data represented in the following plot:    "
   ]
  },
  {
   "cell_type": "code",
   "execution_count": 16,
   "metadata": {
    "hideCode": true,
    "hidePrompt": true,
    "hide_input": true
   },
   "outputs": [
    {
     "name": "stdout",
     "output_type": "stream",
     "text": [
      "Data ready\n"
     ]
    }
   ],
   "source": [
    "import pandas as pd\n",
    "df1 = pd.DataFrame(columns=['t1','s1'])\n",
    "df2 = pd.DataFrame(columns=['t2','s2'])\n",
    "df3 = pd.DataFrame(columns=['t3','s3'])\n",
    "df1['t1'] = [0.1,1,2,6.5,10,20,35,83,158,271,460,750,1440,2880,4320,5732]  # time in minutes!\n",
    "df1['t1'] = df1['t1']*60\n",
    "df1['s1'] = [2.0,3,4,5,6,7,8,9,10,11,12,13,14,14,14,14] # drawdown in centimeters\n",
    "df1['s1'] = df1['s1']/100\n",
    "df2['t2'] = [2.0,7,10,20,35,90,164,289,489,935,1631,4440,5730,5731]\n",
    "df2['t2'] = df2['t2']*60\n",
    "df2['s2'] = [2,3,4,5,6,7,8,9,10,11,12,13,13,13]\n",
    "df2['s2'] = df2['s2']/100\n",
    "df3['t3'] = [1,2,10,48,194,478,1218,2218,3172,5730,5731]\n",
    "df3['t3'] = df3['t3']*60\n",
    "df3['s3'] = [0,1,2,3,4,5,6,7,8,8,8]\n",
    "df3['s3'] = df3['s3']/100\n",
    "print ('Data ready')"
   ]
  },
  {
   "cell_type": "code",
   "execution_count": 17,
   "metadata": {
    "hideCode": true,
    "hidePrompt": true,
    "hide_input": true
   },
   "outputs": [
    {
     "data": {
      "application/vnd.jupyter.widget-view+json": {
       "model_id": "c6f4d6b63ca84da4af59c555b6ab4af9",
       "version_major": 2,
       "version_minor": 0
      },
      "text/plain": [
       "VBox(children=(Button(description='Plot data', style=ButtonStyle()),))"
      ]
     },
     "metadata": {},
     "output_type": "display_data"
    }
   ],
   "source": [
    "def on_wp0_clicked(self):\n",
    "    plt.rcParams[\"figure.figsize\"] = (8,4) \n",
    "    fig = plt.figure(facecolor='w'); ax = fig.add_subplot()\n",
    "    plt.plot (df1['t1'],df1['s1'], '.-', label = 'P 4' )\n",
    "    plt.plot (df2['t2'],df2['s2'], '.-', label = 'P 5' )\n",
    "    plt.plot (df3['t3'],df3['s3'], '.-', label = 'UBA 1' )\n",
    "    plt.title('Stechlin pumping test measured drawdowns',fontsize=14)\n",
    "    plt.xlabel('time [s]',fontsize=12)\n",
    "    plt.ylabel('drawdown [m]',fontsize=12)\n",
    "    plt.grid()\n",
    "    plt.legend(loc = 'lower right',fontsize=12);\n",
    "    \n",
    "wp0 = widgets.Button(description='Plot data')        \n",
    "wp0.on_click(on_wp0_clicked)   \n",
    "widgets.VBox([wp0])"
   ]
  },
  {
   "cell_type": "markdown",
   "metadata": {
    "hideCode": true,
    "hidePrompt": true
   },
   "source": [
    "A pump was operated over a time period of 5731 minutes, which amounts to almost 4 days. The pumping rate was 20 m$^3$/h = 0.0055 m$^3$/s. There were three observation wells: P4, P5 and UBA 1, located at distances of 5.3, 10.2 and 29 m from the pumping well. The maximum drawdown was 14 cm in P4, 13 cm in P5, and 8 cm in UBA 1.\n",
    "\n",
    "In all pumping tests there is a rapid drawdown increase at first, which is eventually slowing down. for that reason the data are often displayed with a logarithmic time axis. "
   ]
  },
  {
   "cell_type": "code",
   "execution_count": 18,
   "metadata": {
    "hideCode": true,
    "hidePrompt": true,
    "hide_input": true
   },
   "outputs": [
    {
     "data": {
      "application/vnd.jupyter.widget-view+json": {
       "model_id": "de26287ea8f84ef39504e2bb27152a13",
       "version_major": 2,
       "version_minor": 0
      },
      "text/plain": [
       "VBox(children=(Button(description='Plot log scale', style=ButtonStyle()),))"
      ]
     },
     "metadata": {},
     "output_type": "display_data"
    }
   ],
   "source": [
    "def on_wp2_clicked(self):\n",
    "    plt.rcParams[\"figure.figsize\"] = (8,4) \n",
    "    fig = plt.figure(facecolor='w'); ax = fig.add_subplot()\n",
    "    ax.set_xscale('log')\n",
    "    plt.plot (df1['t1'],df1['s1'], '.-', label = 'P 4' )\n",
    "    plt.plot (df2['t2'],df2['s2'], '.-', label = 'P 5' )\n",
    "    plt.plot (df3['t3'],df3['s3'], '.-', label = 'UBA 1' )\n",
    "    plt.title('Stechlin pumping test measured drawdowns',fontsize=14)\n",
    "    plt.xlabel('time [min]',fontsize=12)\n",
    "    plt.ylabel('drawdown [m]',fontsize=12)\n",
    "    plt.grid()\n",
    "    plt.legend(loc = 'lower right',fontsize=12);\n",
    "\n",
    "wp2 = widgets.Button(description='Plot log scale')        \n",
    "wp2.on_click(on_wp2_clicked)   \n",
    "widgets.VBox([wp2]) "
   ]
  },
  {
   "cell_type": "markdown",
   "metadata": {
    "hideCode": true,
    "hidePrompt": true
   },
   "source": [
    "As the analytical solution is basically a logarithm function we expect straight lines in this representation. Deviations from the straight line indicate a different regime. In the data shown we observe a straight line for P4 and P5 at intermediate times. At beginning and end of the text there are obviously deviations, and the UBA 1 borehole in largest distance from the pumping well shows a different regime. \n",
    "\n",
    "In order to obtain a better comparison of different observation boreholes, it is convenient to use the $t/r^2$ scale on the time axis. For the considered drawdowns that gives the following result. "
   ]
  },
  {
   "cell_type": "code",
   "execution_count": 19,
   "metadata": {
    "hideCode": true,
    "hidePrompt": true,
    "hide_input": true
   },
   "outputs": [
    {
     "data": {
      "application/vnd.jupyter.widget-view+json": {
       "model_id": "630ced79a0a34c18b916d90871f959f3",
       "version_major": 2,
       "version_minor": 0
      },
      "text/plain": [
       "VBox(children=(Button(description='Plot t/r/r scale', style=ButtonStyle()),))"
      ]
     },
     "metadata": {},
     "output_type": "display_data"
    }
   ],
   "source": [
    "def on_wp4_clicked(self):\n",
    "    plt.rcParams[\"figure.figsize\"] = (8,4) \n",
    "    fig = plt.figure(facecolor='w'); ax = fig.add_subplot()\n",
    "    ax.set_xscale('log')\n",
    "    plt.plot (df1['t1']/5.3/5.3,df1['s1'], '.-', label = 'P 4' )\n",
    "    plt.plot (df2['t2']/10.2/10.2,df2['s2'], '.-', label = 'P 5' )\n",
    "    plt.plot (df3['t3']/29/29,df3['s3'], '.-', label = 'UBA 1' )\n",
    "    plt.title('Stechlin pumping test measured drawdowns',fontsize=14)\n",
    "    plt.xlabel('$t/r^2$ [s/m$^2$]',fontsize=12)\n",
    "    plt.ylabel('drawdown [m]',fontsize=12)\n",
    "    plt.grid()\n",
    "    plt.legend(loc = 'lower right',fontsize=12);\n",
    "\n",
    "wp4 = widgets.Button(description='Plot t/r/r scale')        \n",
    "wp4.on_click(on_wp4_clicked)   \n",
    "widgets.VBox([wp4])"
   ]
  },
  {
   "cell_type": "markdown",
   "metadata": {
    "hideCode": true,
    "hidePrompt": true
   },
   "source": [
    "The figure shows that we could use the same straight line to approximate the values of P4 and P5 in the intermediate time range. TYhis tells us that in this relevant time range the same flow characteristics are valid for P4 and P5. The differences at the start of the pumping test result from differences in the direct vicinity of the well in directions of P4 and P5. The observation piezometer UBA 1 is located further away, where inhomogeneities of the porous medium may have caused a modification of the flow regime.    "
   ]
  },
  {
   "cell_type": "markdown",
   "metadata": {
    "hideCode": true,
    "hidePrompt": true
   },
   "source": [
    "In order to find values for $T$ and $S$ that produce that drawdown data one has to shift these curves to fit with the well function type curve shown above. We will learn about several pump test evaluation methods later.  "
   ]
  },
  {
   "cell_type": "markdown",
   "metadata": {
    "hideCode": true,
    "hidePrompt": true
   },
   "source": [
    "## Pump Tests in Leaky Aquifers  - Hantush"
   ]
  },
  {
   "cell_type": "markdown",
   "metadata": {
    "hideCode": true,
    "hidePrompt": true
   },
   "source": [
    "For a leaky aquifer the drawdown is given by the Hantush well function $W$, which has two arguments:"
   ]
  },
  {
   "cell_type": "markdown",
   "metadata": {
    "hideCode": true,
    "hidePrompt": true
   },
   "source": [
    "$$ s(r, t) = \\frac Q {4 \\pi T} W(u,r/\\lambda)$$"
   ]
  },
  {
   "cell_type": "markdown",
   "metadata": {
    "hideCode": true,
    "hidePrompt": true
   },
   "source": [
    "with $\\lambda=\\sqrt{T\\cdot c}$ where $c$ denotes the resistance of the over-lying semipermeable layer, which is the third yet unknown parameter. The physcial unit of resistance is time. The equation was derived assuming an overall source (Hantush & Jacob 1955, Hantush 1956). Using the more realistic boundary condition at the top of the modelled cross-section Hantush (1967) showed conditions, under which the equation can be taken as a valid approximation."
   ]
  },
  {
   "cell_type": "code",
   "execution_count": 20,
   "metadata": {
    "hideCode": true,
    "hidePrompt": true,
    "hide_input": true
   },
   "outputs": [
    {
     "data": {
      "application/vnd.jupyter.widget-view+json": {
       "model_id": "73d6b093388a414fa9755cc53650b303",
       "version_major": 2,
       "version_minor": 0
      },
      "text/plain": [
       "HBox(children=(FloatText(value=0.001, description='$Q$ [m$^3$/s]:'), FloatText(value=10.0, description='$r$ [m…"
      ]
     },
     "metadata": {},
     "output_type": "display_data"
    }
   ],
   "source": [
    "wQ2 = widgets.FloatText(value=1.e-3, min = 1.e-7, max = 1., description='$Q$ [m$^3$/s]:', disabled=False)\n",
    "wr2 = widgets.FloatText(value=10, description='$r$ [m]:', min=1.e-2, max = 1.e4, disabled=False)\n",
    "widgets.HBox([wQ2, wr2])"
   ]
  },
  {
   "cell_type": "code",
   "execution_count": 21,
   "metadata": {
    "hideCode": true,
    "hidePrompt": true,
    "hide_input": true
   },
   "outputs": [
    {
     "data": {
      "application/vnd.jupyter.widget-view+json": {
       "model_id": "e516433ad34344c9ba892e31f884a187",
       "version_major": 2,
       "version_minor": 0
      },
      "text/plain": [
       "HBox(children=(FloatText(value=0.001, description='$T$ [m$^2$/s]:'), FloatText(value=0.01, description='$S$ [-…"
      ]
     },
     "metadata": {},
     "output_type": "display_data"
    }
   ],
   "source": [
    "wT3 = widgets.FloatText(value=1.e-3, min = 1.e-7, max = 1., description='$T$ [m$^2$/s]:', disabled=False)\n",
    "wS2 = widgets.FloatText(value=1.e-2, description='$S$ [-]:', min=1.e-7, max = 1., disabled=False)\n",
    "wc2 = widgets.FloatText(value=1.e5, description='$c$ [s]:', min=1, max = 1.e8, disabled=False)\n",
    "widgets.HBox([wT3, wS2, wc2])"
   ]
  },
  {
   "cell_type": "code",
   "execution_count": 22,
   "metadata": {
    "hideCode": true,
    "hidePrompt": true,
    "hide_input": true
   },
   "outputs": [
    {
     "data": {
      "application/vnd.jupyter.widget-view+json": {
       "model_id": "1527c6e459734ecdb3f4eb9680892b77",
       "version_major": 2,
       "version_minor": 0
      },
      "text/plain": [
       "HBox(children=(Button(description='Plot drawdown', style=ButtonStyle()), Checkbox(value=False, description='lo…"
      ]
     },
     "metadata": {},
     "output_type": "display_data"
    }
   ],
   "source": [
    "import numpy as np\n",
    "import matplotlib.pyplot as plt\n",
    "from matplotlib.ticker import (MultipleLocator, AutoMinorLocator)\n",
    "import ipywidgets as widgets\n",
    "from scipy.special import kn as BesselK\n",
    "plt.rcParams[\"figure.figsize\"] = (8,4)                                 # omit this in the Spider program\n",
    "\n",
    "def heval (t,r,T,S,c,Q):                 # calculate Hantush solution\n",
    "    T0  = np.where(T>1.e-10,T,1.e-10) \n",
    "    S0  = np.where(S>1.e-10,S,1.e-10)\n",
    "    c0  = np.where(c>1.e-10,c,1.e-10)\n",
    "    lamda = np.sqrt(T0*c0)                \n",
    "    rho = r/lamda\n",
    "    tau = np.log(2*lamda/r*t/(c0*S0))\n",
    "    s = Q/(4*np.pi*T0)*func_F(rho,tau)\n",
    "    return s                             # drawdown \n",
    "\n",
    "def ExpInt(n,u):\n",
    "    # Fast approximation for Wu according to equation 7a and 7b from Srivastava(1998)\n",
    "    gamma = 0.5772 # Euler-Macheroni constant\n",
    "    u0  = np.where(u<1.0,u,1) \n",
    "    Wu0 = np.log(np.exp(-gamma)/u0) + 0.9653*u - 0.1690*u0**2\n",
    "    u1 = np.where(u>=1.0,u,1) \n",
    "    Wu1 = 1/(u1*np.exp(u1))*(u1+0.3575)/(u1+1.280)\n",
    "    Wu = np.where(u<1.0,Wu0,Wu1)\n",
    "    return Wu\n",
    "\n",
    "def func_F(rho,tau):\n",
    "    e = exp1(rho)\n",
    "    e0 = np.where(e>0,e,1.e-10)\n",
    "    w = (e0-BesselK(0,rho))/(e0-exp1(rho/2))\n",
    "    F0 = w*exp1(rho/2*np.exp(-tau))-(w-1)*exp1(rho*np.cosh(tau))  \n",
    "    F1 = 2*BesselK(0,rho) - w*exp1(rho/2*np.exp(tau)) + (w-1)*exp1(rho*np.cosh(tau))   \n",
    "    return (tau<=0)*F0+(tau>0)*F1 \n",
    "\n",
    "def on_wp6_clicked(self):\n",
    "    Q = wQ2.value\n",
    "    T = wT3.value\n",
    "    S = wS2.value\n",
    "    r = wr2.value\n",
    "    c = wc2.value\n",
    "    fig = plt.figure(); ax = plt.axes()\n",
    "    if wca2.value: \n",
    "        ax.set_xscale('log');\n",
    "        t = np.logspace (1,6,100)\n",
    "    else:\n",
    "        ax.xaxis.set_major_locator(MultipleLocator(3600)) \n",
    "        t = np.linspace (10,50000,100)\n",
    "    plt.plot (t,heval (t,r,T,S,c,Q),label = 'drawdown')\n",
    "    ax.set_xlabel(r'$t[s]$', fontsize = 8)\n",
    "    ax.set_ylabel(r'$s[m]$', fontsize = 12)\n",
    "    plt.gcf().text(0.65, 0.4, '$Q = %6.5f $ $ m^3/s$' % (Q, ), fontsize=12)\n",
    "    plt.gcf().text(0.65, 0.35, '$r = %6.5f $ $ m$' % (r, ), fontsize=12)\n",
    "    plt.gcf().text(0.65, 0.3, '$T = %6.5f $ $ m^2/s$' % (T, ), fontsize=12)\n",
    "    plt.gcf().text(0.65, 0.25, '$S = %6.5f  $' % (S, ), fontsize=12)\n",
    "    plt.gcf().text(0.65, 0.2, '$c = %8.0f $ $ s$' % (c, ), fontsize=12)\n",
    "    plt.grid()\n",
    "    plt.legend(loc = 'upper right',fontsize=12);\n",
    "    \n",
    "wp6 = widgets.Button(description='Plot drawdown')        \n",
    "wp6.on_click(on_wp6_clicked)  \n",
    "wca2 = widgets.Checkbox(value=False, description='log', disabled=False, indent=False)\n",
    "widgets.HBox([wp6,wca2])"
   ]
  },
  {
   "cell_type": "markdown",
   "metadata": {
    "hideCode": true,
    "hidePrompt": true,
    "hide_input": false
   },
   "source": [
    "**Task 4.1**: Change resistance and observe the changes in drawdown!\n",
    "\n",
    "**Task 4.2**: For given $Q$=0.002 m$^3$/s, $r$=20 m, $T$=0.002 m$^2$/s and $S$ = 0.001 after 2 hours and 45 minutes pumping a drawdown of 0.35 m was measured. Estimate $c$!"
   ]
  },
  {
   "cell_type": "markdown",
   "metadata": {
    "hideCode": true,
    "hidePrompt": true
   },
   "source": [
    "Note that this is just an exercise. The task arising in practice is more intricate: (1) there is not only one drawdown value to fit, but one or more drawdoen curves, measured over a certain time period; (2) there are three unknown parameters: $T, S$ and $c$, not only one! "
   ]
  },
  {
   "cell_type": "markdown",
   "metadata": {
    "hideCode": true,
    "hidePrompt": true,
    "hide_input": true
   },
   "source": [
    "## Partial Penetration"
   ]
  },
  {
   "cell_type": "markdown",
   "metadata": {
    "hideCode": true,
    "hidePrompt": true
   },
   "source": [
    "Thicker aquifers are mostly only partially penetrated by well screens, in order to save drilling and installation expences. \n",
    "\n",
    "With a fully penetrating well screen, the flow lines towards the well are essentially all virtually parallel and horizontal. This is also the case with partially penetrating well at distances larger than about 1.5 times the aquifer thickness. But at closer distances, the streamlines must converge towards the smaller screen. This causes vertical velocity components and larger velocities near the screen and, therefore, an extra loss of head. This head loss due to converging streamlines is the extra drawdown due to partial penetration.\n",
    "\n",
    "If one compares the flow in the situation with a fully penetrating well screen with that of a partially penetrating screen at the same spot, one imagins that to obtain the flow in the case of the partially penetrating screen, one can take the case of the fully penetrating screen and superimpose above and below the partially penetrating screen an injection that makes the combined flow at r=0 above and below the screen equal zero. At the same time, this injection is extra extracted from the partially penetrating screen itself.\n",
    "\n",
    "Hantush (1961a,b) derived a formula a formula for the steady state drawdown in a partially penetrating well. The geometric parameters $a, b$ and $d$ are defined with respect to the aquifer base:\n",
    "\n",
    "* $r$ : horizontal radial coordinate\n",
    "* $z$ : vertical coordinate upwards\n",
    "* $a$ : distance of top of screen to bottom of aquifer\n",
    "* $b$ : distance of bottom of screen to bottom of aquifer\n",
    "* $d$ : thickness of the aquifer\n"
   ]
  },
  {
   "cell_type": "markdown",
   "metadata": {
    "hideCode": true,
    "hidePrompt": true,
    "hide_input": false
   },
   "source": [
    "According to Kruseman & de Ridder (1994) in a confined aquifer the effect of partial penetration is accounted for by the following formula:\n",
    "\n",
    "$$ 𝑠(r,z,t)=𝑠_{𝑓𝑢𝑙𝑙}(r,t)+\\frac{𝑄}{2𝜋T} \\frac{2d}{𝜋(a-b)}\\sum_{n=1}^{\\infty}\\frac{1}{𝑛}\\biggl(\\text{sin}(\\frac{𝑛𝜋𝑎}{d})−\\text{sin}(\\frac{𝑛𝜋𝑏}{d})\\biggr) \\text{cos}(\\frac{𝑛𝜋𝑧}{d})\\text{𝐾}_0(\\frac{𝑛𝜋𝑟}{d}) $$\n",
    "\n",
    "An additional term has to be added to the total drawdown of a fully penetrating well $s_{full}$. The formula is used for steady and transient situations. Obviously in reality that additional drawdown requires some time to develop. For the early times of pumping the formula may thus not be valid.   \n",
    "\n",
    "First specify the input values.   "
   ]
  },
  {
   "cell_type": "code",
   "execution_count": 23,
   "metadata": {
    "hideCode": true,
    "hidePrompt": true,
    "hide_input": false,
    "scrolled": false
   },
   "outputs": [
    {
     "data": {
      "application/vnd.jupyter.widget-view+json": {
       "model_id": "708c193dd8d84397bd54aaeed0d678d3",
       "version_major": 2,
       "version_minor": 0
      },
      "text/plain": [
       "HBox(children=(FloatText(value=0.0139, description='$Q$ [m$^3$/s]:'), FloatText(value=0.007, description='$T$ …"
      ]
     },
     "metadata": {},
     "output_type": "display_data"
    }
   ],
   "source": [
    "wQ3 = widgets.FloatText(value=0.0139, min = 1.e-7, max = 1., description='$Q$ [m$^3$/s]:', disabled=False)\n",
    "wT4 = widgets.FloatText(value=0.007, min = 1.e-7, max = 1., description='$T$ [m$^2$/s]:', disabled=False)\n",
    "wr3 = widgets.FloatText(value=0.3, description='$r_{well}$ [m]:', min=1.e-2, max = 1.e4, disabled=False)\n",
    "widgets.HBox([wQ3, wT4, wr3])"
   ]
  },
  {
   "cell_type": "code",
   "execution_count": 24,
   "metadata": {
    "hideCode": true,
    "hidePrompt": true,
    "hide_input": true
   },
   "outputs": [
    {
     "data": {
      "application/vnd.jupyter.widget-view+json": {
       "model_id": "5ba592bff7dc4edba13f00b74fc71142",
       "version_major": 2,
       "version_minor": 0
      },
      "text/plain": [
       "HBox(children=(FloatText(value=50.0, description='$d$ [m]:'), FloatText(value=40.0, description='$a$ [m]:'), F…"
      ]
     },
     "metadata": {},
     "output_type": "display_data"
    }
   ],
   "source": [
    "wd = widgets.FloatText(value=50, min = 1, max = 1., description='$d$ [m]:', disabled=False)\n",
    "wa = widgets.FloatText(value=40, min = 0, max = wd.value, description='$a$ [m]:', disabled=False)\n",
    "wb = widgets.FloatText(value=30, min = 0, max = wa.value, description='$b$ [m]:', disabled=False)\n",
    "widgets.HBox([wd, wa, wb])"
   ]
  },
  {
   "cell_type": "markdown",
   "metadata": {
    "hideCode": true,
    "hidePrompt": true
   },
   "source": [
    "Let's look at the additional drawdown. "
   ]
  },
  {
   "cell_type": "code",
   "execution_count": 25,
   "metadata": {
    "hideCode": true,
    "hidePrompt": true,
    "hide_input": false,
    "scrolled": false
   },
   "outputs": [
    {
     "data": {
      "application/vnd.jupyter.widget-view+json": {
       "model_id": "5a1eace35350418bb358a2b16ae4fbbb",
       "version_major": 2,
       "version_minor": 0
      },
      "text/plain": [
       "VBox(children=(Button(description='Additional Drawdown', style=ButtonStyle()),))"
      ]
     },
     "metadata": {},
     "output_type": "display_data"
    }
   ],
   "source": [
    "import numpy as np\n",
    "import matplotlib.pylab as plt\n",
    "from scipy.special import k0 # bessel function K0\n",
    "import ipywidgets as widgets\n",
    "plt.rcParams[\"figure.figsize\"] = (8,4)                 \n",
    "\n",
    "def dWpp(r, z, a, b, d):\n",
    "    tol = 1e-3\n",
    "    r = np.array(r.ravel(), dtype = float)[np.newaxis,:]\n",
    "    z = np.array(z.ravel(), dtype = float)[:,np.newaxis]\n",
    "    alpha= np.pi * a/d\n",
    "    beta = np.pi * b/d\n",
    "    zeta = np.pi * z/d\n",
    "    rho  = np.pi * r/d\n",
    "    delta= np.pi * (a-b)/d\n",
    "    maxiter = 500\n",
    "    Dw = (z*r)*0.\n",
    "    dw0 = np.ones(Dw.shape)\n",
    "    for n in np.arange(1.,maxiter+1.):\n",
    "        dw1 = dw0\n",
    "        dw0 = (np.sin(n*alpha)-np.sin(n*beta))*np.cos(n*zeta)*k0(n*rho)/n\n",
    "        Dw += dw0\n",
    "        #print(np.sum(np.abs(dw1 + dw0)))\n",
    "        if np.sum(np.abs(dw1 + dw0))< tol:\n",
    "            break\n",
    "    #print(\"Iterations: {}\".format(n))\n",
    "    return (2./delta) * Dw\n",
    "\n",
    "def on_wp7_clicked(self):\n",
    "    Q = wQ3.value #1200./86400\n",
    "    T = wT4.value #600./86400\n",
    "    d = wd.value  #50.\n",
    "    a = wa.value  #40.\n",
    "    b = wb.value  #30.\n",
    "    r0 = wr3.value #0.3\n",
    "    r = np.logspace(np.log10(r0), 2., 41)\n",
    "    z = np.linspace(0., d, 51)\n",
    "    dw = Q/(2*np.pi*T)*dWpp(r, z, a, b, d)\n",
    "    fig = plt.figure(); ax = plt.axes()\n",
    "    ax.set(xlabel='$r$ [m]', ylabel='$z$ [m]', title='Additional drawdown due to partial screen penetration')\n",
    "    CS = plt.contourf(r,z,dw,40,cmap=plt.cm.YlGnBu)\n",
    "    cbar = fig.colorbar(CS)\n",
    "    ax.contour(r, z, dw, 40, colors = 'k', linewidths=(1,))\n",
    "    plt.show()\n",
    "\n",
    "wp7 = widgets.Button(description='Additional Drawdown')        \n",
    "wp7.on_click(on_wp7_clicked)   \n",
    "widgets.VBox([wp7])"
   ]
  },
  {
   "cell_type": "markdown",
   "metadata": {
    "hideCode": true,
    "hidePrompt": true,
    "hide_input": true
   },
   "source": [
    "This is the head that has to be superimposed to the situation with a fully penetrating screen. The head contours show that there is not only extraction from the screen but also injection above and below the screen, which, if superimposed to the case of the fully penetrating screen should yield no flow there. \n",
    "\n",
    "Let's have a look at the total drawdown now, by adding to the Theis solution. Note that the storativity $S$ was not used above. Thus it has to be introduced. As the solution is time-dependent, it is also necessary to input a time.    "
   ]
  },
  {
   "cell_type": "code",
   "execution_count": 26,
   "metadata": {
    "hideCode": true,
    "hidePrompt": true,
    "hide_input": true
   },
   "outputs": [
    {
     "data": {
      "application/vnd.jupyter.widget-view+json": {
       "model_id": "0817a5b483bd4bf8998b3dd0bc4e0774",
       "version_major": 2,
       "version_minor": 0
      },
      "text/plain": [
       "VBox(children=(FloatText(value=0.001, description='$S$ [-]:'), FloatText(value=86400.0, description='$t$ [s]:'…"
      ]
     },
     "metadata": {},
     "output_type": "display_data"
    }
   ],
   "source": [
    "wS3 = widgets.FloatText(value=1.e-3, description='$S$ [-]:', min=1.e-7, max = 1., disabled=False)\n",
    "wt = widgets.FloatText(value=86400, description='$t$ [s]:', min=1, max = 1.e6, disabled=False)\n",
    "widgets.VBox([wS3, wt])"
   ]
  },
  {
   "cell_type": "code",
   "execution_count": 27,
   "metadata": {
    "hideCode": true,
    "hidePrompt": true,
    "hide_input": true
   },
   "outputs": [
    {
     "data": {
      "application/vnd.jupyter.widget-view+json": {
       "model_id": "3cb1e3e71f454836941a01b9fa2ef4e6",
       "version_major": 2,
       "version_minor": 0
      },
      "text/plain": [
       "VBox(children=(Button(description='Plot Drawdown', style=ButtonStyle()),))"
      ]
     },
     "metadata": {},
     "output_type": "display_data"
    }
   ],
   "source": [
    "import numpy as np\n",
    "import matplotlib.pyplot as plt\n",
    "import ipywidgets as widgets\n",
    "from scipy.special import exp1\n",
    "import ipywidgets as widgets\n",
    "plt.rcParams[\"figure.figsize\"] = (8,4)\n",
    "\n",
    "def on_wp8_clicked(self):\n",
    "    Q = wQ3.value #1200./86400\n",
    "    T = wT4.value #600./86400\n",
    "    S = wS3.value #0.001\n",
    "    d = wd.value  #50.\n",
    "    a = wa.value  #40.\n",
    "    b = wb.value  #30.\n",
    "    r0 = wr3.value #0.3\n",
    "    t = wt.value  #86400\n",
    "    r = np.logspace(np.log10(r0), 2., 41)\n",
    "    z = np.linspace(0., d, 51)\n",
    "    s = Q/(4*np.pi*T)*exp1(r*r*S/4/T/t) + Q/(2*np.pi*T)*dWpp(r, z, a, b, d)\n",
    "    fig = plt.figure(); ax = plt.axes()\n",
    "    ax.set(xlabel='$r$ [m]', ylabel='$z$ [m]', title='Drawdown due to partial screen penetration')\n",
    "    CS = plt.contourf(r,z,s,40,cmap=plt.cm.YlGnBu)\n",
    "    cbar = fig.colorbar(CS)\n",
    "    ax.contour(r, z, s, 40, colors = 'k', linewidths=(1,))\n",
    "    plt.text(65, 5, '$Q = %6.5f $ $ m^3/s$' % (Q, ), fontsize=12)\n",
    "    plt.show()\n",
    "\n",
    "wp8 = widgets.Button(description='Plot Drawdown')        \n",
    "wp8.on_click(on_wp8_clicked)   \n",
    "widgets.VBox([wp8])"
   ]
  },
  {
   "cell_type": "markdown",
   "metadata": {
    "hideCode": true,
    "hidePrompt": true
   },
   "source": [
    "This result shows that the contours indeed concentrate around the screen and only around the screen. The figure also shows that the head contours are perpendicular to the impervious top and bottom of the aquifer, as well as to the center of the well below and above the partially penetrating screen, as expected."
   ]
  },
  {
   "cell_type": "markdown",
   "metadata": {
    "hideCode": true,
    "hidePrompt": true
   },
   "source": [
    "For the default values the influence of partial penetration is almost 4 m, that is larger than the total drawdown of the fully penetrating well (2.6 m). Therefore, partial penetration is something to take into account. For a detailed discussion see: "
   ]
  },
  {
   "cell_type": "markdown",
   "metadata": {
    "hideCode": true,
    "hidePrompt": true
   },
   "source": [
    "<center>\n",
    "<a href=\"https://transientgroundwaterflow.readthedocs.io/en/latest/PartialPenetration.html\">\n",
    "Transient Groundwater Flow Website</a></center>"
   ]
  },
  {
   "cell_type": "markdown",
   "metadata": {
    "hideCode": true,
    "hidePrompt": true,
    "hide_input": true
   },
   "source": [
    "**Task 5.1**: For the constellation with default values, which is the maximal pumping rate in order not to exceed a drawdown of 5 m after one day of pumping? "
   ]
  },
  {
   "cell_type": "markdown",
   "metadata": {
    "hideCode": true,
    "hidePrompt": true
   },
   "source": [
    "When working out a pumping test with a partially penetrating screen, then the drawdown for piezometers closer than about 1.5$d$ have to be corrected with the correction provided by Hantush’s analytical solution. For piezometers installed at larger distances, such correction is not necessary. In the graphics above one can recognize that for a distance greater than 1.5$d$ the head contours are nearly vertical, i.e. there are no vertical velocity components. \n",
    "\n",
    "If vertical anisotropy is taken into into account, then this criterion changes to $𝑟>1.5d\\sqrt{𝑘_𝑟/𝑘_z}$.\n",
    "\n",
    "When designing wells based on the expected drawdown (leading to a corresponding design of the pump), partial penetration must definitely be taken into account."
   ]
  },
  {
   "cell_type": "markdown",
   "metadata": {
    "hideCode": true,
    "hidePrompt": true
   },
   "source": [
    "## Bibliography"
   ]
  },
  {
   "cell_type": "markdown",
   "metadata": {
    "hideCode": true,
    "hidePrompt": true
   },
   "source": [
    "* Dupuit J. Mouvement de l’eau a travers le terrains permeables, C. R. Hebd. Seances Acad. 459 Sci., Vol. 45, 92–96, 1857\n",
    "* de Glee G.J., Over grondwaterstromingen bij wateronttrekking door middel van putten, J. Waltman, Delft, 1930 (in Dutch)\n",
    "* Hantush M.S., Analysis of data from pumping tests in leaky aquifers, EOS, Vol. 37(6), 702-714, 1956\n",
    "* Hantush M.S., Drawdown around a partially penetrating well, Jour. of the Hyd. Div., Proc. ASCE, Vol. 87(HY4), 83-98, 1961a\n",
    "* Hantush M.S., Aquifer tests on partially penetrating wells, Jour. of the Hyd. Div., Proc. ASCE, Vol. 87(HY5), 171-194, 1961b\n",
    "* Hantush M.S., Flow of groundwater in relatively thick leaky aquifers, Water Res. Res., Vol. 3(2), 583-590, 1967\n",
    "* Hantush M.S., Jacob C.E., Non-steady radial flow in an infinite leaky aquifer, Trans. Am. Geophys. Union, Vol. 36, 95-100, 1955\n",
    "* Kruseman G.P., de Ridder N.A., Analysis and Evaluation of Pumping Test Data, 2. Edition, Intern. Inst. for Land Reclamation and Improvement (ILRI), Publication 47, Wageningen, 1994\n",
    "* Maas C., Veling E.J.M., Een snelle benadering van de formule van Hantush, Stromingen, Vol. 6(1), 60-69, 2010\n",
    "* Renard P., The future of hydraulic tests, Hydrogeol. J., Vol. 13, 259-262, 2005\n",
    "* Veling E.J.M, Maas C., Hantush well function revisited, Journal of Hydrology, Vol. 393(3), 381-388, 2010\n",
    "* Thiem G., Hydrologische Methoden, J.M.Gebhardt’s Verlag, Leipzig, 1906 (in German)\n",
    "* Theis C.V., The relation between the lowering of the piezometric surface and the rate and duration of discharge of a well using ground-water storage, Groundwater Notes Hydraulics, No. 5, 10p, 1952"
   ]
  },
  {
   "cell_type": "markdown",
   "metadata": {
    "hideCode": true,
    "hidePrompt": true
   },
   "source": [
    "**Solutions**\n",
    "\n",
    "Task 2.2: $T$ = 0.000105 m$^2$/s\n",
    "\n",
    "Task 2.4: $c$ = 37000000 s = 428 d\n",
    "\n",
    "Task 3.2: $S$ = 0.00077\n",
    "\n",
    "Task 3.3: $T$ = 0.015 m$^2$/s\n",
    "\n",
    "Task 4.2: $c$ = 24000000 s = 266 d\n",
    "\n",
    "Task 5.1: $Q$ = 0.011 m${^3}$/s"
   ]
  },
  {
   "cell_type": "code",
   "execution_count": null,
   "metadata": {
    "hideCode": true,
    "hidePrompt": true
   },
   "outputs": [],
   "source": []
  }
 ],
 "metadata": {
  "hide_code_all_hidden": true,
  "hide_input": false,
  "kernelspec": {
   "display_name": "Python 3",
   "language": "python",
   "name": "python3"
  },
  "language_info": {
   "codemirror_mode": {
    "name": "ipython",
    "version": 3
   },
   "file_extension": ".py",
   "mimetype": "text/x-python",
   "name": "python",
   "nbconvert_exporter": "python",
   "pygments_lexer": "ipython3",
   "version": "3.7.6"
  },
  "latex_envs": {
   "LaTeX_envs_menu_present": true,
   "autoclose": false,
   "autocomplete": true,
   "bibliofile": "biblio.bib",
   "cite_by": "apalike",
   "current_citInitial": 1,
   "eqLabelWithNumbers": true,
   "eqNumInitial": 1,
   "hotkeys": {
    "equation": "Ctrl-E",
    "itemize": "Ctrl-I"
   },
   "labels_anchors": false,
   "latex_user_defs": false,
   "report_style_numbering": false,
   "user_envs_cfg": false
  },
  "toc": {
   "base_numbering": 1,
   "nav_menu": {},
   "number_sections": true,
   "sideBar": true,
   "skip_h1_title": true,
   "title_cell": "Table of Contents",
   "title_sidebar": "Contents",
   "toc_cell": true,
   "toc_position": {
    "height": "calc(100% - 180px)",
    "left": "10px",
    "top": "150px",
    "width": "254px"
   },
   "toc_section_display": true,
   "toc_window_display": true
  },
  "varInspector": {
   "cols": {
    "lenName": 16,
    "lenType": 16,
    "lenVar": 40
   },
   "kernels_config": {
    "python": {
     "delete_cmd_postfix": "",
     "delete_cmd_prefix": "del ",
     "library": "var_list.py",
     "varRefreshCmd": "print(var_dic_list())"
    },
    "r": {
     "delete_cmd_postfix": ") ",
     "delete_cmd_prefix": "rm(",
     "library": "var_list.r",
     "varRefreshCmd": "cat(var_dic_list()) "
    }
   },
   "types_to_exclude": [
    "module",
    "function",
    "builtin_function_or_method",
    "instance",
    "_Feature"
   ],
   "window_display": false
  }
 },
 "nbformat": 4,
 "nbformat_minor": 4
}
